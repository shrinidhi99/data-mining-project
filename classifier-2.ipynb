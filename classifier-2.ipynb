{
 "metadata": {
  "language_info": {
   "codemirror_mode": {
    "name": "ipython",
    "version": 3
   },
   "file_extension": ".py",
   "mimetype": "text/x-python",
   "name": "python",
   "nbconvert_exporter": "python",
   "pygments_lexer": "ipython3",
   "version": "3.6.9-final"
  },
  "orig_nbformat": 2,
  "kernelspec": {
   "name": "python36964bit0769a96148364928a8ad5b322499ce22",
   "display_name": "Python 3.6.9 64-bit"
  }
 },
 "nbformat": 4,
 "nbformat_minor": 2,
 "cells": [
  {
   "source": [
    "## Modification: Using network analysis"
   ],
   "cell_type": "markdown",
   "metadata": {}
  },
  {
   "cell_type": "code",
   "execution_count": 1,
   "metadata": {},
   "outputs": [],
   "source": [
    "import pandas as pd\n",
    "from sklearn.model_selection import train_test_split\n",
    "\n",
    "df = pd.read_csv('dataset.csv', index_col=0)\n",
    "id_list = df['user_id'].to_list()"
   ]
  },
  {
   "cell_type": "code",
   "execution_count": 2,
   "metadata": {},
   "outputs": [
    {
     "output_type": "execute_result",
     "data": {
      "text/plain": [
       "   user_id  tweets_count  followers_count  friends_count  has_name  has_image  \\\n",
       "0  3610511          3057             5470           2385         1          1   \n",
       "1  5656162          3128              506            381         1          1   \n",
       "2  5682702          3158              264             87         1          1   \n",
       "3  6067292          3098              640            622         1          1   \n",
       "4  6015122          2012               62             64         1          1   \n",
       "\n",
       "   has_address  has_bio  profile_has_url  present_in_list  \\\n",
       "0            1        1                1                1   \n",
       "1            1        1                1                1   \n",
       "2            1        1                1                1   \n",
       "3            0        1                1                1   \n",
       "4            1        1                1                0   \n",
       "\n",
       "   friends_to_followers_ratio  label  \n",
       "0                    0.436015      1  \n",
       "1                    0.752964      1  \n",
       "2                    0.329545      1  \n",
       "3                    0.971875      1  \n",
       "4                    1.032258      1  "
      ],
      "text/html": "<div>\n<style scoped>\n    .dataframe tbody tr th:only-of-type {\n        vertical-align: middle;\n    }\n\n    .dataframe tbody tr th {\n        vertical-align: top;\n    }\n\n    .dataframe thead th {\n        text-align: right;\n    }\n</style>\n<table border=\"1\" class=\"dataframe\">\n  <thead>\n    <tr style=\"text-align: right;\">\n      <th></th>\n      <th>user_id</th>\n      <th>tweets_count</th>\n      <th>followers_count</th>\n      <th>friends_count</th>\n      <th>has_name</th>\n      <th>has_image</th>\n      <th>has_address</th>\n      <th>has_bio</th>\n      <th>profile_has_url</th>\n      <th>present_in_list</th>\n      <th>friends_to_followers_ratio</th>\n      <th>label</th>\n    </tr>\n  </thead>\n  <tbody>\n    <tr>\n      <th>0</th>\n      <td>3610511</td>\n      <td>3057</td>\n      <td>5470</td>\n      <td>2385</td>\n      <td>1</td>\n      <td>1</td>\n      <td>1</td>\n      <td>1</td>\n      <td>1</td>\n      <td>1</td>\n      <td>0.436015</td>\n      <td>1</td>\n    </tr>\n    <tr>\n      <th>1</th>\n      <td>5656162</td>\n      <td>3128</td>\n      <td>506</td>\n      <td>381</td>\n      <td>1</td>\n      <td>1</td>\n      <td>1</td>\n      <td>1</td>\n      <td>1</td>\n      <td>1</td>\n      <td>0.752964</td>\n      <td>1</td>\n    </tr>\n    <tr>\n      <th>2</th>\n      <td>5682702</td>\n      <td>3158</td>\n      <td>264</td>\n      <td>87</td>\n      <td>1</td>\n      <td>1</td>\n      <td>1</td>\n      <td>1</td>\n      <td>1</td>\n      <td>1</td>\n      <td>0.329545</td>\n      <td>1</td>\n    </tr>\n    <tr>\n      <th>3</th>\n      <td>6067292</td>\n      <td>3098</td>\n      <td>640</td>\n      <td>622</td>\n      <td>1</td>\n      <td>1</td>\n      <td>0</td>\n      <td>1</td>\n      <td>1</td>\n      <td>1</td>\n      <td>0.971875</td>\n      <td>1</td>\n    </tr>\n    <tr>\n      <th>4</th>\n      <td>6015122</td>\n      <td>2012</td>\n      <td>62</td>\n      <td>64</td>\n      <td>1</td>\n      <td>1</td>\n      <td>1</td>\n      <td>1</td>\n      <td>1</td>\n      <td>0</td>\n      <td>1.032258</td>\n      <td>1</td>\n    </tr>\n  </tbody>\n</table>\n</div>"
     },
     "metadata": {},
     "execution_count": 2
    }
   ],
   "source": [
    "df.head()"
   ]
  },
  {
   "cell_type": "code",
   "execution_count": 3,
   "metadata": {},
   "outputs": [],
   "source": [
    "import collections\n",
    "import pandas as pd \n",
    "\n",
    "# a = [1,1,1,1,2,2,2,2,3,3,4,5,5]\n",
    "\n",
    "# getting the follower count\n",
    "\n",
    "df3 = pd.read_csv('followers.csv')\n",
    "lst = df3['source_id'].to_list()\n",
    "follower_count = collections.Counter(lst)\n",
    "followers_count_sorted = sorted(follower_count.items())\n",
    "\n",
    "# getting friends count\n",
    "lst2 = df3['target_id'].to_list()\n",
    "friend_count = collections.Counter(lst2)\n",
    "friends_count_sorted = sorted(friend_count.items())\n",
    "\n",
    "user_id_list = list(set(follower_count.keys()) | set(friend_count.keys()) | set(id_list))\n"
   ]
  },
  {
   "cell_type": "code",
   "execution_count": 4,
   "metadata": {},
   "outputs": [
    {
     "output_type": "execute_result",
     "data": {
      "text/plain": [
       "    user_id  total_followers  total_friends\n",
       "0        12                0              0\n",
       "1        13                0              0\n",
       "2        14                0              0\n",
       "3        20                0              0\n",
       "4        34                0              0\n",
       "5        87                0              0\n",
       "6       107                0              0\n",
       "7       224                0              0\n",
       "8       246                0              0\n",
       "9       259                0              0\n",
       "10      295                0              0\n",
       "11      338                0              0\n",
       "12      380                0              0\n",
       "13      414                0              0\n",
       "14      418                0              0"
      ],
      "text/html": "<div>\n<style scoped>\n    .dataframe tbody tr th:only-of-type {\n        vertical-align: middle;\n    }\n\n    .dataframe tbody tr th {\n        vertical-align: top;\n    }\n\n    .dataframe thead th {\n        text-align: right;\n    }\n</style>\n<table border=\"1\" class=\"dataframe\">\n  <thead>\n    <tr style=\"text-align: right;\">\n      <th></th>\n      <th>user_id</th>\n      <th>total_followers</th>\n      <th>total_friends</th>\n    </tr>\n  </thead>\n  <tbody>\n    <tr>\n      <th>0</th>\n      <td>12</td>\n      <td>0</td>\n      <td>0</td>\n    </tr>\n    <tr>\n      <th>1</th>\n      <td>13</td>\n      <td>0</td>\n      <td>0</td>\n    </tr>\n    <tr>\n      <th>2</th>\n      <td>14</td>\n      <td>0</td>\n      <td>0</td>\n    </tr>\n    <tr>\n      <th>3</th>\n      <td>20</td>\n      <td>0</td>\n      <td>0</td>\n    </tr>\n    <tr>\n      <th>4</th>\n      <td>34</td>\n      <td>0</td>\n      <td>0</td>\n    </tr>\n    <tr>\n      <th>5</th>\n      <td>87</td>\n      <td>0</td>\n      <td>0</td>\n    </tr>\n    <tr>\n      <th>6</th>\n      <td>107</td>\n      <td>0</td>\n      <td>0</td>\n    </tr>\n    <tr>\n      <th>7</th>\n      <td>224</td>\n      <td>0</td>\n      <td>0</td>\n    </tr>\n    <tr>\n      <th>8</th>\n      <td>246</td>\n      <td>0</td>\n      <td>0</td>\n    </tr>\n    <tr>\n      <th>9</th>\n      <td>259</td>\n      <td>0</td>\n      <td>0</td>\n    </tr>\n    <tr>\n      <th>10</th>\n      <td>295</td>\n      <td>0</td>\n      <td>0</td>\n    </tr>\n    <tr>\n      <th>11</th>\n      <td>338</td>\n      <td>0</td>\n      <td>0</td>\n    </tr>\n    <tr>\n      <th>12</th>\n      <td>380</td>\n      <td>0</td>\n      <td>0</td>\n    </tr>\n    <tr>\n      <th>13</th>\n      <td>414</td>\n      <td>0</td>\n      <td>0</td>\n    </tr>\n    <tr>\n      <th>14</th>\n      <td>418</td>\n      <td>0</td>\n      <td>0</td>\n    </tr>\n  </tbody>\n</table>\n</div>"
     },
     "metadata": {},
     "execution_count": 4
    }
   ],
   "source": [
    "df2 = pd.DataFrame({'user_id':sorted(user_id_list)})\n",
    "df2['total_followers'] = [0] * len(user_id_list)\n",
    "df2['total_friends'] = [0] * len(user_id_list)\n",
    "df2.head(15)"
   ]
  },
  {
   "cell_type": "code",
   "execution_count": 48,
   "metadata": {},
   "outputs": [],
   "source": [
    "df_followers = pd.read_csv('followers.csv')"
   ]
  },
  {
   "cell_type": "code",
   "execution_count": 50,
   "metadata": {},
   "outputs": [],
   "source": [
    "df_friends = pd.read_csv('friends.csv')"
   ]
  },
  {
   "source": [
    "### Creating columns to be used for class C attributes"
   ],
   "cell_type": "markdown",
   "metadata": {}
  },
  {
   "cell_type": "code",
   "execution_count": 59,
   "metadata": {},
   "outputs": [],
   "source": [
    "for ind in df_followers.index:\n",
    "    account = df_followers['source_id'][ind]\n",
    "    follower = df_followers['target_id'][ind]\n",
    "\n",
    "    account_follower_count = follower_count[account]\n",
    "    follower_follower_count = follower_count[follower]\n",
    "\n",
    "    # df2[df2['user_id'] == account]['total_followers'] += follower_follower_count\n",
    "    # df2[df2['user_id'] == follower]['total_followers'] += account_follower_count\n",
    "\n",
    "    account_ind = df2.user_id[df2.user_id == account].index\n",
    "    follower_ind = df2.user_id[df2.user_id == follower].index\n",
    "\n",
    "    df2['total_followers'][account_ind] += follower_follower_count\n",
    "    df2['total_followers'][follower_ind] += account_follower_count"
   ]
  },
  {
   "cell_type": "code",
   "execution_count": 60,
   "metadata": {},
   "outputs": [],
   "source": [
    "for ind in df_followers.index:\n",
    "    account = df_followers['source_id'][ind]\n",
    "    follower = df_followers['target_id'][ind]\n",
    "\n",
    "    account_friend_count = friend_count[account]\n",
    "    follower_friend_count = friend_count[follower]\n",
    "\n",
    "    # df2[df2['user_id'] == account]['total_followers'] += follower_follower_count\n",
    "    # df2[df2['user_id'] == follower]['total_followers'] += account_follower_count\n",
    "\n",
    "    account_ind = df2.user_id[df2.user_id == account].index\n",
    "    follower_ind = df2.user_id[df2.user_id == follower].index\n",
    "\n",
    "    df2['total_friends'][account_ind] += follower_friend_count\n",
    "    df2['total_friends'][follower_ind] += account_friend_count"
   ]
  },
  {
   "cell_type": "code",
   "execution_count": 62,
   "metadata": {},
   "outputs": [],
   "source": [
    "df2.head(30)\n",
    "df2.to_csv('dataset-total.csv')"
   ]
  },
  {
   "cell_type": "code",
   "execution_count": 5,
   "metadata": {},
   "outputs": [
    {
     "output_type": "execute_result",
     "data": {
      "text/plain": [
       "    user_id  total_followers  total_friends\n",
       "0        12              261          75164\n",
       "1        13              109          46900\n",
       "2        14                3            963\n",
       "3        20              102          47151\n",
       "4        34                1           5282\n",
       "5        87                4            894\n",
       "6       107               15           8191\n",
       "7       224                6           2549\n",
       "8       246                1           1060\n",
       "9       259                1           1060\n",
       "10      295                1           5282\n",
       "11      338                1           5282\n",
       "12      380               28          10049\n",
       "13      414                2            732\n",
       "14      418               19           7368"
      ],
      "text/html": "<div>\n<style scoped>\n    .dataframe tbody tr th:only-of-type {\n        vertical-align: middle;\n    }\n\n    .dataframe tbody tr th {\n        vertical-align: top;\n    }\n\n    .dataframe thead th {\n        text-align: right;\n    }\n</style>\n<table border=\"1\" class=\"dataframe\">\n  <thead>\n    <tr style=\"text-align: right;\">\n      <th></th>\n      <th>user_id</th>\n      <th>total_followers</th>\n      <th>total_friends</th>\n    </tr>\n  </thead>\n  <tbody>\n    <tr>\n      <th>0</th>\n      <td>12</td>\n      <td>261</td>\n      <td>75164</td>\n    </tr>\n    <tr>\n      <th>1</th>\n      <td>13</td>\n      <td>109</td>\n      <td>46900</td>\n    </tr>\n    <tr>\n      <th>2</th>\n      <td>14</td>\n      <td>3</td>\n      <td>963</td>\n    </tr>\n    <tr>\n      <th>3</th>\n      <td>20</td>\n      <td>102</td>\n      <td>47151</td>\n    </tr>\n    <tr>\n      <th>4</th>\n      <td>34</td>\n      <td>1</td>\n      <td>5282</td>\n    </tr>\n    <tr>\n      <th>5</th>\n      <td>87</td>\n      <td>4</td>\n      <td>894</td>\n    </tr>\n    <tr>\n      <th>6</th>\n      <td>107</td>\n      <td>15</td>\n      <td>8191</td>\n    </tr>\n    <tr>\n      <th>7</th>\n      <td>224</td>\n      <td>6</td>\n      <td>2549</td>\n    </tr>\n    <tr>\n      <th>8</th>\n      <td>246</td>\n      <td>1</td>\n      <td>1060</td>\n    </tr>\n    <tr>\n      <th>9</th>\n      <td>259</td>\n      <td>1</td>\n      <td>1060</td>\n    </tr>\n    <tr>\n      <th>10</th>\n      <td>295</td>\n      <td>1</td>\n      <td>5282</td>\n    </tr>\n    <tr>\n      <th>11</th>\n      <td>338</td>\n      <td>1</td>\n      <td>5282</td>\n    </tr>\n    <tr>\n      <th>12</th>\n      <td>380</td>\n      <td>28</td>\n      <td>10049</td>\n    </tr>\n    <tr>\n      <th>13</th>\n      <td>414</td>\n      <td>2</td>\n      <td>732</td>\n    </tr>\n    <tr>\n      <th>14</th>\n      <td>418</td>\n      <td>19</td>\n      <td>7368</td>\n    </tr>\n  </tbody>\n</table>\n</div>"
     },
     "metadata": {},
     "execution_count": 5
    }
   ],
   "source": [
    "df_all = pd.read_csv('dataset-total.csv', index_col=0)\n",
    "df_all.head(15)"
   ]
  },
  {
   "source": [
    "### Creating columns for class C attributes"
   ],
   "cell_type": "markdown",
   "metadata": {}
  },
  {
   "cell_type": "code",
   "execution_count": 6,
   "metadata": {},
   "outputs": [],
   "source": [
    "df_all['mean_followers'] = [0] * len(user_id_list)\n",
    "df_all['mean_friends'] = [0] * len(user_id_list)"
   ]
  },
  {
   "cell_type": "code",
   "execution_count": 7,
   "metadata": {},
   "outputs": [
    {
     "output_type": "execute_result",
     "data": {
      "text/plain": [
       "   user_id  total_followers  total_friends  mean_followers  mean_friends\n",
       "0       12              261          75164               0             0\n",
       "1       13              109          46900               0             0\n",
       "2       14                3            963               0             0\n",
       "3       20              102          47151               0             0\n",
       "4       34                1           5282               0             0"
      ],
      "text/html": "<div>\n<style scoped>\n    .dataframe tbody tr th:only-of-type {\n        vertical-align: middle;\n    }\n\n    .dataframe tbody tr th {\n        vertical-align: top;\n    }\n\n    .dataframe thead th {\n        text-align: right;\n    }\n</style>\n<table border=\"1\" class=\"dataframe\">\n  <thead>\n    <tr style=\"text-align: right;\">\n      <th></th>\n      <th>user_id</th>\n      <th>total_followers</th>\n      <th>total_friends</th>\n      <th>mean_followers</th>\n      <th>mean_friends</th>\n    </tr>\n  </thead>\n  <tbody>\n    <tr>\n      <th>0</th>\n      <td>12</td>\n      <td>261</td>\n      <td>75164</td>\n      <td>0</td>\n      <td>0</td>\n    </tr>\n    <tr>\n      <th>1</th>\n      <td>13</td>\n      <td>109</td>\n      <td>46900</td>\n      <td>0</td>\n      <td>0</td>\n    </tr>\n    <tr>\n      <th>2</th>\n      <td>14</td>\n      <td>3</td>\n      <td>963</td>\n      <td>0</td>\n      <td>0</td>\n    </tr>\n    <tr>\n      <th>3</th>\n      <td>20</td>\n      <td>102</td>\n      <td>47151</td>\n      <td>0</td>\n      <td>0</td>\n    </tr>\n    <tr>\n      <th>4</th>\n      <td>34</td>\n      <td>1</td>\n      <td>5282</td>\n      <td>0</td>\n      <td>0</td>\n    </tr>\n  </tbody>\n</table>\n</div>"
     },
     "metadata": {},
     "execution_count": 7
    }
   ],
   "source": [
    "df_all.head()"
   ]
  },
  {
   "cell_type": "code",
   "execution_count": 9,
   "metadata": {},
   "outputs": [
    {
     "output_type": "stream",
     "name": "stdout",
     "text": [
      "0\n",
      "50000\n",
      "100000\n",
      "150000\n",
      "200000\n",
      "250000\n",
      "300000\n",
      "350000\n",
      "400000\n",
      "450000\n",
      "500000\n",
      "550000\n",
      "600000\n",
      "650000\n",
      "700000\n",
      "750000\n",
      "800000\n",
      "850000\n",
      "900000\n",
      "950000\n",
      "1000000\n",
      "1050000\n",
      "1100000\n",
      "1150000\n"
     ]
    }
   ],
   "source": [
    "for ind in df_all.index:\n",
    "\n",
    "    account = df_all['user_id'][ind]\n",
    "    if ind % 50000 == 0:\n",
    "        print(ind)\n",
    "\n",
    "    total_neighbours = 0    \n",
    "    total_neighbours = friend_count[account] + follower_count[account]\n",
    "\n",
    "    if total_neighbours == 0:\n",
    "        df_all['mean_followers'][ind] = 0\n",
    "        df_all['mean_friends'][ind] = 0 \n",
    "    else:\n",
    "        df_all['mean_followers'][ind] = df_all['total_followers'][ind] / total_neighbours\n",
    "        df_all['mean_friends'][ind] = df_all['total_friends'][ind] / total_neighbours"
   ]
  },
  {
   "cell_type": "code",
   "execution_count": 10,
   "metadata": {},
   "outputs": [
    {
     "output_type": "execute_result",
     "data": {
      "text/plain": [
       "    user_id  total_followers  total_friends  mean_followers  mean_friends\n",
       "0        12              261          75164               6          1927\n",
       "1        13              109          46900               9          3908\n",
       "2        14                3            963               1           321\n",
       "3        20              102          47151               7          3627\n",
       "4        34                1           5282               1          5282\n",
       "5        87                4            894               4           894\n",
       "6       107               15           8191               5          2730\n",
       "7       224                6           2549               6          2549\n",
       "8       246                1           1060               1          1060\n",
       "9       259                1           1060               1          1060\n",
       "10      295                1           5282               1          5282\n",
       "11      338                1           5282               1          5282\n",
       "12      380               28          10049               9          3349\n",
       "13      414                2            732               2           732\n",
       "14      418               19           7368              19          7368\n",
       "15      509                4           3688               4          3688\n",
       "16      573                1           1788               1          1788\n",
       "17      586               45          19687               7          3281\n",
       "18      633               59          27864              11          5572\n",
       "19      747               10           1362              10          1362"
      ],
      "text/html": "<div>\n<style scoped>\n    .dataframe tbody tr th:only-of-type {\n        vertical-align: middle;\n    }\n\n    .dataframe tbody tr th {\n        vertical-align: top;\n    }\n\n    .dataframe thead th {\n        text-align: right;\n    }\n</style>\n<table border=\"1\" class=\"dataframe\">\n  <thead>\n    <tr style=\"text-align: right;\">\n      <th></th>\n      <th>user_id</th>\n      <th>total_followers</th>\n      <th>total_friends</th>\n      <th>mean_followers</th>\n      <th>mean_friends</th>\n    </tr>\n  </thead>\n  <tbody>\n    <tr>\n      <th>0</th>\n      <td>12</td>\n      <td>261</td>\n      <td>75164</td>\n      <td>6</td>\n      <td>1927</td>\n    </tr>\n    <tr>\n      <th>1</th>\n      <td>13</td>\n      <td>109</td>\n      <td>46900</td>\n      <td>9</td>\n      <td>3908</td>\n    </tr>\n    <tr>\n      <th>2</th>\n      <td>14</td>\n      <td>3</td>\n      <td>963</td>\n      <td>1</td>\n      <td>321</td>\n    </tr>\n    <tr>\n      <th>3</th>\n      <td>20</td>\n      <td>102</td>\n      <td>47151</td>\n      <td>7</td>\n      <td>3627</td>\n    </tr>\n    <tr>\n      <th>4</th>\n      <td>34</td>\n      <td>1</td>\n      <td>5282</td>\n      <td>1</td>\n      <td>5282</td>\n    </tr>\n    <tr>\n      <th>5</th>\n      <td>87</td>\n      <td>4</td>\n      <td>894</td>\n      <td>4</td>\n      <td>894</td>\n    </tr>\n    <tr>\n      <th>6</th>\n      <td>107</td>\n      <td>15</td>\n      <td>8191</td>\n      <td>5</td>\n      <td>2730</td>\n    </tr>\n    <tr>\n      <th>7</th>\n      <td>224</td>\n      <td>6</td>\n      <td>2549</td>\n      <td>6</td>\n      <td>2549</td>\n    </tr>\n    <tr>\n      <th>8</th>\n      <td>246</td>\n      <td>1</td>\n      <td>1060</td>\n      <td>1</td>\n      <td>1060</td>\n    </tr>\n    <tr>\n      <th>9</th>\n      <td>259</td>\n      <td>1</td>\n      <td>1060</td>\n      <td>1</td>\n      <td>1060</td>\n    </tr>\n    <tr>\n      <th>10</th>\n      <td>295</td>\n      <td>1</td>\n      <td>5282</td>\n      <td>1</td>\n      <td>5282</td>\n    </tr>\n    <tr>\n      <th>11</th>\n      <td>338</td>\n      <td>1</td>\n      <td>5282</td>\n      <td>1</td>\n      <td>5282</td>\n    </tr>\n    <tr>\n      <th>12</th>\n      <td>380</td>\n      <td>28</td>\n      <td>10049</td>\n      <td>9</td>\n      <td>3349</td>\n    </tr>\n    <tr>\n      <th>13</th>\n      <td>414</td>\n      <td>2</td>\n      <td>732</td>\n      <td>2</td>\n      <td>732</td>\n    </tr>\n    <tr>\n      <th>14</th>\n      <td>418</td>\n      <td>19</td>\n      <td>7368</td>\n      <td>19</td>\n      <td>7368</td>\n    </tr>\n    <tr>\n      <th>15</th>\n      <td>509</td>\n      <td>4</td>\n      <td>3688</td>\n      <td>4</td>\n      <td>3688</td>\n    </tr>\n    <tr>\n      <th>16</th>\n      <td>573</td>\n      <td>1</td>\n      <td>1788</td>\n      <td>1</td>\n      <td>1788</td>\n    </tr>\n    <tr>\n      <th>17</th>\n      <td>586</td>\n      <td>45</td>\n      <td>19687</td>\n      <td>7</td>\n      <td>3281</td>\n    </tr>\n    <tr>\n      <th>18</th>\n      <td>633</td>\n      <td>59</td>\n      <td>27864</td>\n      <td>11</td>\n      <td>5572</td>\n    </tr>\n    <tr>\n      <th>19</th>\n      <td>747</td>\n      <td>10</td>\n      <td>1362</td>\n      <td>10</td>\n      <td>1362</td>\n    </tr>\n  </tbody>\n</table>\n</div>"
     },
     "metadata": {},
     "execution_count": 10
    }
   ],
   "source": [
    "df_all.head(20)"
   ]
  },
  {
   "source": [
    "### Append these columns to the dataset"
   ],
   "cell_type": "markdown",
   "metadata": {}
  },
  {
   "cell_type": "code",
   "execution_count": 14,
   "metadata": {},
   "outputs": [
    {
     "output_type": "execute_result",
     "data": {
      "text/plain": [
       "3610511"
      ]
     },
     "metadata": {},
     "execution_count": 14
    }
   ],
   "source": [
    "id_list[0]"
   ]
  },
  {
   "cell_type": "code",
   "execution_count": 58,
   "metadata": {},
   "outputs": [
    {
     "output_type": "stream",
     "name": "stdout",
     "text": [
      "3610511\n",
      "43964510\n",
      "80000814\n",
      "125088832\n",
      "190569663\n",
      "255656786\n",
      "327397233\n",
      "386779723\n",
      "416351352\n",
      "479832822\n",
      "762202957\n",
      "800130746\n",
      "524820621\n",
      "622239105\n",
      "301919327\n",
      "7773732\n",
      "82062642\n",
      "211462267\n",
      "428434740\n",
      "19861856\n",
      "42570158\n",
      "87752806\n",
      "128595293\n",
      "173215914\n",
      "233688028\n",
      "291362552\n",
      "357101224\n",
      "469178446\n",
      "134435538\n",
      "616220111\n",
      "616227562\n",
      "616297320\n",
      "616312179\n",
      "616636835\n",
      "616914106\n",
      "617262093\n",
      "617557720\n",
      "617828146\n",
      "619266193\n",
      "621554804\n",
      "1207879530\n",
      "1374959215\n",
      "1127034602\n",
      "1127827542\n",
      "1129012411\n",
      "1130518314\n",
      "1174436491\n",
      "1174680708\n",
      "1174854703\n",
      "1175061374\n",
      "1175806116\n",
      "1176043460\n",
      "1176263858\n",
      "1176392124\n"
     ]
    }
   ],
   "source": [
    "# mean_followers_list = df_all['mean_followers'].to_list()\n",
    "# mean_friends_list = df_all['mean_friends'].to_list()\n",
    "\n",
    "# df['mean_followers'] = mean_followers_list\n",
    "# df['mean_friends'] = mean_friends_list\n",
    "\n",
    "# df.to_csv('dataset-2.csv')\n",
    "\n",
    "mean_followers_list = [0] * len(id_list)\n",
    "mean_friends_list = [0] * len(id_list)\n",
    "\n",
    "k = 0\n",
    "\n",
    "for u in id_list:\n",
    "    if k % 100 == 0:\n",
    "        print(u)\n",
    "\n",
    "    account_ind = df_all.user_id[df_all.user_id == u].index\n",
    "    mean_follower = df_all['mean_followers'][account_ind]\n",
    "    mean_friend = df_all['mean_friends'][account_ind]\n",
    "    mean_followers_list[k] = mean_follower.item()\n",
    "    mean_friends_list[k] = mean_friend.item()\n",
    "    k += 1\n"
   ]
  },
  {
   "cell_type": "code",
   "execution_count": 60,
   "metadata": {},
   "outputs": [
    {
     "output_type": "execute_result",
     "data": {
      "text/plain": [
       "   user_id  tweets_count  has_name  has_image  has_address  has_bio  \\\n",
       "0  3610511          3057         1          1            1        1   \n",
       "1  5656162          3128         1          1            1        1   \n",
       "2  5682702          3158         1          1            1        1   \n",
       "3  6067292          3098         1          1            0        1   \n",
       "4  6015122          2012         1          1            1        1   \n",
       "\n",
       "   profile_has_url  present_in_list  friends_to_followers_ratio  \n",
       "0                1                1                    0.436015  \n",
       "1                1                1                    0.752964  \n",
       "2                1                1                    0.329545  \n",
       "3                1                1                    0.971875  \n",
       "4                1                0                    1.032258  "
      ],
      "text/html": "<div>\n<style scoped>\n    .dataframe tbody tr th:only-of-type {\n        vertical-align: middle;\n    }\n\n    .dataframe tbody tr th {\n        vertical-align: top;\n    }\n\n    .dataframe thead th {\n        text-align: right;\n    }\n</style>\n<table border=\"1\" class=\"dataframe\">\n  <thead>\n    <tr style=\"text-align: right;\">\n      <th></th>\n      <th>user_id</th>\n      <th>tweets_count</th>\n      <th>has_name</th>\n      <th>has_image</th>\n      <th>has_address</th>\n      <th>has_bio</th>\n      <th>profile_has_url</th>\n      <th>present_in_list</th>\n      <th>friends_to_followers_ratio</th>\n    </tr>\n  </thead>\n  <tbody>\n    <tr>\n      <th>0</th>\n      <td>3610511</td>\n      <td>3057</td>\n      <td>1</td>\n      <td>1</td>\n      <td>1</td>\n      <td>1</td>\n      <td>1</td>\n      <td>1</td>\n      <td>0.436015</td>\n    </tr>\n    <tr>\n      <th>1</th>\n      <td>5656162</td>\n      <td>3128</td>\n      <td>1</td>\n      <td>1</td>\n      <td>1</td>\n      <td>1</td>\n      <td>1</td>\n      <td>1</td>\n      <td>0.752964</td>\n    </tr>\n    <tr>\n      <th>2</th>\n      <td>5682702</td>\n      <td>3158</td>\n      <td>1</td>\n      <td>1</td>\n      <td>1</td>\n      <td>1</td>\n      <td>1</td>\n      <td>1</td>\n      <td>0.329545</td>\n    </tr>\n    <tr>\n      <th>3</th>\n      <td>6067292</td>\n      <td>3098</td>\n      <td>1</td>\n      <td>1</td>\n      <td>0</td>\n      <td>1</td>\n      <td>1</td>\n      <td>1</td>\n      <td>0.971875</td>\n    </tr>\n    <tr>\n      <th>4</th>\n      <td>6015122</td>\n      <td>2012</td>\n      <td>1</td>\n      <td>1</td>\n      <td>1</td>\n      <td>1</td>\n      <td>1</td>\n      <td>0</td>\n      <td>1.032258</td>\n    </tr>\n  </tbody>\n</table>\n</div>"
     },
     "metadata": {},
     "execution_count": 60
    }
   ],
   "source": [
    "df.head()"
   ]
  },
  {
   "cell_type": "code",
   "execution_count": 62,
   "metadata": {},
   "outputs": [],
   "source": [
    "df['mean_followers_count'] = mean_followers_list"
   ]
  },
  {
   "cell_type": "code",
   "execution_count": 63,
   "metadata": {},
   "outputs": [
    {
     "output_type": "execute_result",
     "data": {
      "text/plain": [
       "   user_id  tweets_count  has_name  has_image  has_address  has_bio  \\\n",
       "0  3610511          3057         1          1            1        1   \n",
       "1  5656162          3128         1          1            1        1   \n",
       "2  5682702          3158         1          1            1        1   \n",
       "3  6067292          3098         1          1            0        1   \n",
       "4  6015122          2012         1          1            1        1   \n",
       "5  6140012          3203         1          1            1        1   \n",
       "6  6134312          1183         1          1            1        1   \n",
       "7  6684602          3102         1          1            0        1   \n",
       "8  7046912          3113         1          1            1        1   \n",
       "9  7470952          3186         1          1            1        1   \n",
       "\n",
       "   profile_has_url  present_in_list  friends_to_followers_ratio  \\\n",
       "0                1                1                    0.436015   \n",
       "1                1                1                    0.752964   \n",
       "2                1                1                    0.329545   \n",
       "3                1                1                    0.971875   \n",
       "4                1                0                    1.032258   \n",
       "5                0                1                    1.297101   \n",
       "6                0                1                    1.312500   \n",
       "7                0                1                    1.666667   \n",
       "8                1                1                    0.040996   \n",
       "9                0                1                    0.936842   \n",
       "\n",
       "   mean_followers_count  \n",
       "0                     9  \n",
       "1                     6  \n",
       "2                    11  \n",
       "3                    14  \n",
       "4                    43  \n",
       "5                    49  \n",
       "6                    22  \n",
       "7                    21  \n",
       "8                     4  \n",
       "9                    30  "
      ],
      "text/html": "<div>\n<style scoped>\n    .dataframe tbody tr th:only-of-type {\n        vertical-align: middle;\n    }\n\n    .dataframe tbody tr th {\n        vertical-align: top;\n    }\n\n    .dataframe thead th {\n        text-align: right;\n    }\n</style>\n<table border=\"1\" class=\"dataframe\">\n  <thead>\n    <tr style=\"text-align: right;\">\n      <th></th>\n      <th>user_id</th>\n      <th>tweets_count</th>\n      <th>has_name</th>\n      <th>has_image</th>\n      <th>has_address</th>\n      <th>has_bio</th>\n      <th>profile_has_url</th>\n      <th>present_in_list</th>\n      <th>friends_to_followers_ratio</th>\n      <th>mean_followers_count</th>\n    </tr>\n  </thead>\n  <tbody>\n    <tr>\n      <th>0</th>\n      <td>3610511</td>\n      <td>3057</td>\n      <td>1</td>\n      <td>1</td>\n      <td>1</td>\n      <td>1</td>\n      <td>1</td>\n      <td>1</td>\n      <td>0.436015</td>\n      <td>9</td>\n    </tr>\n    <tr>\n      <th>1</th>\n      <td>5656162</td>\n      <td>3128</td>\n      <td>1</td>\n      <td>1</td>\n      <td>1</td>\n      <td>1</td>\n      <td>1</td>\n      <td>1</td>\n      <td>0.752964</td>\n      <td>6</td>\n    </tr>\n    <tr>\n      <th>2</th>\n      <td>5682702</td>\n      <td>3158</td>\n      <td>1</td>\n      <td>1</td>\n      <td>1</td>\n      <td>1</td>\n      <td>1</td>\n      <td>1</td>\n      <td>0.329545</td>\n      <td>11</td>\n    </tr>\n    <tr>\n      <th>3</th>\n      <td>6067292</td>\n      <td>3098</td>\n      <td>1</td>\n      <td>1</td>\n      <td>0</td>\n      <td>1</td>\n      <td>1</td>\n      <td>1</td>\n      <td>0.971875</td>\n      <td>14</td>\n    </tr>\n    <tr>\n      <th>4</th>\n      <td>6015122</td>\n      <td>2012</td>\n      <td>1</td>\n      <td>1</td>\n      <td>1</td>\n      <td>1</td>\n      <td>1</td>\n      <td>0</td>\n      <td>1.032258</td>\n      <td>43</td>\n    </tr>\n    <tr>\n      <th>5</th>\n      <td>6140012</td>\n      <td>3203</td>\n      <td>1</td>\n      <td>1</td>\n      <td>1</td>\n      <td>1</td>\n      <td>0</td>\n      <td>1</td>\n      <td>1.297101</td>\n      <td>49</td>\n    </tr>\n    <tr>\n      <th>6</th>\n      <td>6134312</td>\n      <td>1183</td>\n      <td>1</td>\n      <td>1</td>\n      <td>1</td>\n      <td>1</td>\n      <td>0</td>\n      <td>1</td>\n      <td>1.312500</td>\n      <td>22</td>\n    </tr>\n    <tr>\n      <th>7</th>\n      <td>6684602</td>\n      <td>3102</td>\n      <td>1</td>\n      <td>1</td>\n      <td>0</td>\n      <td>1</td>\n      <td>0</td>\n      <td>1</td>\n      <td>1.666667</td>\n      <td>21</td>\n    </tr>\n    <tr>\n      <th>8</th>\n      <td>7046912</td>\n      <td>3113</td>\n      <td>1</td>\n      <td>1</td>\n      <td>1</td>\n      <td>1</td>\n      <td>1</td>\n      <td>1</td>\n      <td>0.040996</td>\n      <td>4</td>\n    </tr>\n    <tr>\n      <th>9</th>\n      <td>7470952</td>\n      <td>3186</td>\n      <td>1</td>\n      <td>1</td>\n      <td>1</td>\n      <td>1</td>\n      <td>0</td>\n      <td>1</td>\n      <td>0.936842</td>\n      <td>30</td>\n    </tr>\n  </tbody>\n</table>\n</div>"
     },
     "metadata": {},
     "execution_count": 63
    }
   ],
   "source": [
    "df.head(10)"
   ]
  },
  {
   "cell_type": "code",
   "execution_count": 64,
   "metadata": {},
   "outputs": [],
   "source": [
    "df['mean_friends_count'] = mean_friends_list\n",
    "df['label'] = labels"
   ]
  },
  {
   "cell_type": "code",
   "execution_count": 65,
   "metadata": {},
   "outputs": [
    {
     "output_type": "execute_result",
     "data": {
      "text/plain": [
       "   user_id  tweets_count  has_name  has_image  has_address  has_bio  \\\n",
       "0  3610511          3057         1          1            1        1   \n",
       "1  5656162          3128         1          1            1        1   \n",
       "2  5682702          3158         1          1            1        1   \n",
       "3  6067292          3098         1          1            0        1   \n",
       "4  6015122          2012         1          1            1        1   \n",
       "\n",
       "   profile_has_url  present_in_list  friends_to_followers_ratio  \\\n",
       "0                1                1                    0.436015   \n",
       "1                1                1                    0.752964   \n",
       "2                1                1                    0.329545   \n",
       "3                1                1                    0.971875   \n",
       "4                1                0                    1.032258   \n",
       "\n",
       "   mean_followers_count  mean_friends_count  label  \n",
       "0                     9                 151      1  \n",
       "1                     6                   6      1  \n",
       "2                    11                   9      1  \n",
       "3                    14                  82      1  \n",
       "4                    43                  12      1  "
      ],
      "text/html": "<div>\n<style scoped>\n    .dataframe tbody tr th:only-of-type {\n        vertical-align: middle;\n    }\n\n    .dataframe tbody tr th {\n        vertical-align: top;\n    }\n\n    .dataframe thead th {\n        text-align: right;\n    }\n</style>\n<table border=\"1\" class=\"dataframe\">\n  <thead>\n    <tr style=\"text-align: right;\">\n      <th></th>\n      <th>user_id</th>\n      <th>tweets_count</th>\n      <th>has_name</th>\n      <th>has_image</th>\n      <th>has_address</th>\n      <th>has_bio</th>\n      <th>profile_has_url</th>\n      <th>present_in_list</th>\n      <th>friends_to_followers_ratio</th>\n      <th>mean_followers_count</th>\n      <th>mean_friends_count</th>\n      <th>label</th>\n    </tr>\n  </thead>\n  <tbody>\n    <tr>\n      <th>0</th>\n      <td>3610511</td>\n      <td>3057</td>\n      <td>1</td>\n      <td>1</td>\n      <td>1</td>\n      <td>1</td>\n      <td>1</td>\n      <td>1</td>\n      <td>0.436015</td>\n      <td>9</td>\n      <td>151</td>\n      <td>1</td>\n    </tr>\n    <tr>\n      <th>1</th>\n      <td>5656162</td>\n      <td>3128</td>\n      <td>1</td>\n      <td>1</td>\n      <td>1</td>\n      <td>1</td>\n      <td>1</td>\n      <td>1</td>\n      <td>0.752964</td>\n      <td>6</td>\n      <td>6</td>\n      <td>1</td>\n    </tr>\n    <tr>\n      <th>2</th>\n      <td>5682702</td>\n      <td>3158</td>\n      <td>1</td>\n      <td>1</td>\n      <td>1</td>\n      <td>1</td>\n      <td>1</td>\n      <td>1</td>\n      <td>0.329545</td>\n      <td>11</td>\n      <td>9</td>\n      <td>1</td>\n    </tr>\n    <tr>\n      <th>3</th>\n      <td>6067292</td>\n      <td>3098</td>\n      <td>1</td>\n      <td>1</td>\n      <td>0</td>\n      <td>1</td>\n      <td>1</td>\n      <td>1</td>\n      <td>0.971875</td>\n      <td>14</td>\n      <td>82</td>\n      <td>1</td>\n    </tr>\n    <tr>\n      <th>4</th>\n      <td>6015122</td>\n      <td>2012</td>\n      <td>1</td>\n      <td>1</td>\n      <td>1</td>\n      <td>1</td>\n      <td>1</td>\n      <td>0</td>\n      <td>1.032258</td>\n      <td>43</td>\n      <td>12</td>\n      <td>1</td>\n    </tr>\n  </tbody>\n</table>\n</div>"
     },
     "metadata": {},
     "execution_count": 65
    }
   ],
   "source": [
    "df.head()"
   ]
  },
  {
   "cell_type": "code",
   "execution_count": 66,
   "metadata": {},
   "outputs": [
    {
     "output_type": "execute_result",
     "data": {
      "text/plain": [
       "         user_id  tweets_count  has_name  has_image  has_address  has_bio  \\\n",
       "1164  1128385638            19         1          1            1        1   \n",
       "1165  1128865231            20         1          1            1        1   \n",
       "1166  1130046366            31         1          1            1        1   \n",
       "1167  1176159360            15         1          1            1        1   \n",
       "1168  1176392124            22         1          1            1        1   \n",
       "\n",
       "      profile_has_url  present_in_list  friends_to_followers_ratio  \\\n",
       "1164                0                0                   26.500000   \n",
       "1165                0                0                   23.555556   \n",
       "1166                0                0                   31.500000   \n",
       "1167                0                0                   20.636364   \n",
       "1168                0                0                   22.200000   \n",
       "\n",
       "      mean_followers_count  mean_friends_count  label  \n",
       "1164                    17                   0      0  \n",
       "1165                    11                   0      0  \n",
       "1166                     9                   0      0  \n",
       "1167                     1                   1      0  \n",
       "1168                     7                   0      0  "
      ],
      "text/html": "<div>\n<style scoped>\n    .dataframe tbody tr th:only-of-type {\n        vertical-align: middle;\n    }\n\n    .dataframe tbody tr th {\n        vertical-align: top;\n    }\n\n    .dataframe thead th {\n        text-align: right;\n    }\n</style>\n<table border=\"1\" class=\"dataframe\">\n  <thead>\n    <tr style=\"text-align: right;\">\n      <th></th>\n      <th>user_id</th>\n      <th>tweets_count</th>\n      <th>has_name</th>\n      <th>has_image</th>\n      <th>has_address</th>\n      <th>has_bio</th>\n      <th>profile_has_url</th>\n      <th>present_in_list</th>\n      <th>friends_to_followers_ratio</th>\n      <th>mean_followers_count</th>\n      <th>mean_friends_count</th>\n      <th>label</th>\n    </tr>\n  </thead>\n  <tbody>\n    <tr>\n      <th>1164</th>\n      <td>1128385638</td>\n      <td>19</td>\n      <td>1</td>\n      <td>1</td>\n      <td>1</td>\n      <td>1</td>\n      <td>0</td>\n      <td>0</td>\n      <td>26.500000</td>\n      <td>17</td>\n      <td>0</td>\n      <td>0</td>\n    </tr>\n    <tr>\n      <th>1165</th>\n      <td>1128865231</td>\n      <td>20</td>\n      <td>1</td>\n      <td>1</td>\n      <td>1</td>\n      <td>1</td>\n      <td>0</td>\n      <td>0</td>\n      <td>23.555556</td>\n      <td>11</td>\n      <td>0</td>\n      <td>0</td>\n    </tr>\n    <tr>\n      <th>1166</th>\n      <td>1130046366</td>\n      <td>31</td>\n      <td>1</td>\n      <td>1</td>\n      <td>1</td>\n      <td>1</td>\n      <td>0</td>\n      <td>0</td>\n      <td>31.500000</td>\n      <td>9</td>\n      <td>0</td>\n      <td>0</td>\n    </tr>\n    <tr>\n      <th>1167</th>\n      <td>1176159360</td>\n      <td>15</td>\n      <td>1</td>\n      <td>1</td>\n      <td>1</td>\n      <td>1</td>\n      <td>0</td>\n      <td>0</td>\n      <td>20.636364</td>\n      <td>1</td>\n      <td>1</td>\n      <td>0</td>\n    </tr>\n    <tr>\n      <th>1168</th>\n      <td>1176392124</td>\n      <td>22</td>\n      <td>1</td>\n      <td>1</td>\n      <td>1</td>\n      <td>1</td>\n      <td>0</td>\n      <td>0</td>\n      <td>22.200000</td>\n      <td>7</td>\n      <td>0</td>\n      <td>0</td>\n    </tr>\n  </tbody>\n</table>\n</div>"
     },
     "metadata": {},
     "execution_count": 66
    }
   ],
   "source": [
    "df.tail()"
   ]
  },
  {
   "cell_type": "code",
   "execution_count": 67,
   "metadata": {},
   "outputs": [],
   "source": [
    "df = df.drop(['friends_to_followers_ratio'], axis = 1)"
   ]
  },
  {
   "cell_type": "code",
   "execution_count": 68,
   "metadata": {},
   "outputs": [
    {
     "output_type": "execute_result",
     "data": {
      "text/plain": [
       "   user_id  tweets_count  has_name  has_image  has_address  has_bio  \\\n",
       "0  3610511          3057         1          1            1        1   \n",
       "1  5656162          3128         1          1            1        1   \n",
       "2  5682702          3158         1          1            1        1   \n",
       "3  6067292          3098         1          1            0        1   \n",
       "4  6015122          2012         1          1            1        1   \n",
       "\n",
       "   profile_has_url  present_in_list  mean_followers_count  mean_friends_count  \\\n",
       "0                1                1                     9                 151   \n",
       "1                1                1                     6                   6   \n",
       "2                1                1                    11                   9   \n",
       "3                1                1                    14                  82   \n",
       "4                1                0                    43                  12   \n",
       "\n",
       "   label  \n",
       "0      1  \n",
       "1      1  \n",
       "2      1  \n",
       "3      1  \n",
       "4      1  "
      ],
      "text/html": "<div>\n<style scoped>\n    .dataframe tbody tr th:only-of-type {\n        vertical-align: middle;\n    }\n\n    .dataframe tbody tr th {\n        vertical-align: top;\n    }\n\n    .dataframe thead th {\n        text-align: right;\n    }\n</style>\n<table border=\"1\" class=\"dataframe\">\n  <thead>\n    <tr style=\"text-align: right;\">\n      <th></th>\n      <th>user_id</th>\n      <th>tweets_count</th>\n      <th>has_name</th>\n      <th>has_image</th>\n      <th>has_address</th>\n      <th>has_bio</th>\n      <th>profile_has_url</th>\n      <th>present_in_list</th>\n      <th>mean_followers_count</th>\n      <th>mean_friends_count</th>\n      <th>label</th>\n    </tr>\n  </thead>\n  <tbody>\n    <tr>\n      <th>0</th>\n      <td>3610511</td>\n      <td>3057</td>\n      <td>1</td>\n      <td>1</td>\n      <td>1</td>\n      <td>1</td>\n      <td>1</td>\n      <td>1</td>\n      <td>9</td>\n      <td>151</td>\n      <td>1</td>\n    </tr>\n    <tr>\n      <th>1</th>\n      <td>5656162</td>\n      <td>3128</td>\n      <td>1</td>\n      <td>1</td>\n      <td>1</td>\n      <td>1</td>\n      <td>1</td>\n      <td>1</td>\n      <td>6</td>\n      <td>6</td>\n      <td>1</td>\n    </tr>\n    <tr>\n      <th>2</th>\n      <td>5682702</td>\n      <td>3158</td>\n      <td>1</td>\n      <td>1</td>\n      <td>1</td>\n      <td>1</td>\n      <td>1</td>\n      <td>1</td>\n      <td>11</td>\n      <td>9</td>\n      <td>1</td>\n    </tr>\n    <tr>\n      <th>3</th>\n      <td>6067292</td>\n      <td>3098</td>\n      <td>1</td>\n      <td>1</td>\n      <td>0</td>\n      <td>1</td>\n      <td>1</td>\n      <td>1</td>\n      <td>14</td>\n      <td>82</td>\n      <td>1</td>\n    </tr>\n    <tr>\n      <th>4</th>\n      <td>6015122</td>\n      <td>2012</td>\n      <td>1</td>\n      <td>1</td>\n      <td>1</td>\n      <td>1</td>\n      <td>1</td>\n      <td>0</td>\n      <td>43</td>\n      <td>12</td>\n      <td>1</td>\n    </tr>\n  </tbody>\n</table>\n</div>"
     },
     "metadata": {},
     "execution_count": 68
    }
   ],
   "source": [
    "df.head()"
   ]
  },
  {
   "cell_type": "code",
   "execution_count": 69,
   "metadata": {},
   "outputs": [],
   "source": [
    "df.to_csv('dataset-graph.csv')"
   ]
  },
  {
   "cell_type": "code",
   "execution_count": 2,
   "metadata": {},
   "outputs": [],
   "source": [
    "import pandas as pd\n",
    "from sklearn.model_selection import train_test_split\n",
    "\n",
    "df = pd.read_csv('dataset-graph.csv', index_col=0)\n",
    "\n",
    "X = df.iloc[:,1:11]\n",
    "y = df.iloc[:, -1]\n",
    "\n",
    "X_real = X[:1950] \n",
    "y_real = y[:1950]\n",
    "\n",
    "X_fake = X[1950:]\n",
    "y_fake = y[1950:]\n",
    "\n",
    "X_train_real, X_test_real, y_train_real, y_test_real = train_test_split(X_real, y_real, test_size=0.2)\n",
    "X_train_fake, X_test_fake, y_train_fake, y_test_fake = train_test_split(X_fake, y_fake, test_size=0.2)\n",
    "\n",
    "frames = [X_train_real, X_train_fake]\n",
    "X_train = pd.concat(frames)\n",
    "\n",
    "frames = [y_train_real, y_train_fake]\n",
    "y_train = pd.concat(frames)\n",
    "\n",
    "frames = [X_test_real, X_test_fake]\n",
    "X_test = pd.concat(frames)\n",
    "\n",
    "frames = [y_test_real, y_test_fake]\n",
    "y_test = pd.concat(frames)"
   ]
  },
  {
   "source": [
    "### 1. Random Forest"
   ],
   "cell_type": "markdown",
   "metadata": {}
  },
  {
   "cell_type": "code",
   "execution_count": 3,
   "metadata": {},
   "outputs": [
    {
     "output_type": "stream",
     "name": "stdout",
     "text": [
      "Acc:  1.0\n"
     ]
    }
   ],
   "source": [
    "from sklearn.ensemble import RandomForestClassifier\n",
    "import pandas as pd \n",
    "import numpy as np\n",
    "\n",
    "clf = RandomForestClassifier(n_estimators = 100)   \n",
    "clf.fit(X_train, y_train) \n",
    "y_pred = clf.predict(X_test) \n",
    "\n",
    "from sklearn import metrics   \n",
    "print(\"Acc: \", metrics.accuracy_score(y_test, y_pred))"
   ]
  },
  {
   "source": [
    "### 2. Decision Tree"
   ],
   "cell_type": "markdown",
   "metadata": {}
  },
  {
   "cell_type": "code",
   "execution_count": 76,
   "metadata": {},
   "outputs": [
    {
     "output_type": "stream",
     "name": "stdout",
     "text": [
      "Acc:  1.0\n"
     ]
    },
    {
     "output_type": "execute_result",
     "data": {
      "text/plain": [
       "array([[671,   0],\n",
       "       [  0, 390]])"
      ]
     },
     "metadata": {},
     "execution_count": 76
    }
   ],
   "source": [
    "import numpy as np \n",
    "import pandas as pd \n",
    "from sklearn.metrics import confusion_matrix \n",
    "from sklearn.tree import DecisionTreeClassifier \n",
    "from sklearn.metrics import accuracy_score \n",
    "from sklearn.metrics import classification_report \n",
    " \n",
    "clf = DecisionTreeClassifier()\n",
    "clf.fit(X_train, y_train)\n",
    "\n",
    "y_pred = clf.predict(X_test)\n",
    "\n",
    "from sklearn import metrics   \n",
    "print(\"Acc: \", metrics.accuracy_score(y_test, y_pred))\n",
    "\n",
    "confusion_matrix(y_test, y_pred)"
   ]
  },
  {
   "source": [
    "### Adaboost"
   ],
   "cell_type": "markdown",
   "metadata": {}
  },
  {
   "cell_type": "code",
   "execution_count": 77,
   "metadata": {},
   "outputs": [
    {
     "output_type": "stream",
     "name": "stdout",
     "text": [
      "Acc:  1.0\n"
     ]
    }
   ],
   "source": [
    "from sklearn.ensemble import AdaBoostClassifier\n",
    "from sklearn import datasets\n",
    "# Import train_test_split function\n",
    "from sklearn.model_selection import train_test_split\n",
    "#Import scikit-learn metrics module for accuracy calculation\n",
    "from sklearn import metrics\n",
    "\n",
    "clf = AdaBoostClassifier(n_estimators=50, learning_rate=1)\n",
    "\n",
    "# Train Adaboost Classifer\n",
    "clf.fit(X_train, y_train)\n",
    "\n",
    "#Predict the response for test dataset\n",
    "y_pred = clf.predict(X_test)\n",
    "\n",
    "from sklearn import metrics   \n",
    "print(\"Acc: \", metrics.accuracy_score(y_test, y_pred))"
   ]
  },
  {
   "source": [
    "### SVM"
   ],
   "cell_type": "markdown",
   "metadata": {}
  },
  {
   "cell_type": "code",
   "execution_count": 78,
   "metadata": {},
   "outputs": [
    {
     "output_type": "stream",
     "name": "stdout",
     "text": [
      "Acc:  1.0\n"
     ]
    }
   ],
   "source": [
    "from sklearn import svm\n",
    "\n",
    "#Create a svm Classifier\n",
    "clf = svm.SVC(kernel='linear') # Linear Kernel\n",
    "\n",
    "#Train the model using the training sets\n",
    "clf.fit(X_train, y_train)\n",
    "\n",
    "#Predict the response for test dataset\n",
    "y_pred = clf.predict(X_test)\n",
    "\n",
    "from sklearn import metrics   \n",
    "print(\"Acc: \", metrics.accuracy_score(y_test, y_pred))"
   ]
  }
 ]
}