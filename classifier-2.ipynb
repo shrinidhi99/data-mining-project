{
 "metadata": {
  "language_info": {
   "codemirror_mode": {
    "name": "ipython",
    "version": 3
   },
   "file_extension": ".py",
   "mimetype": "text/x-python",
   "name": "python",
   "nbconvert_exporter": "python",
   "pygments_lexer": "ipython3",
   "version": "3.6.9-final"
  },
  "orig_nbformat": 2,
  "kernelspec": {
   "name": "python36964bit0769a96148364928a8ad5b322499ce22",
   "display_name": "Python 3.6.9 64-bit"
  }
 },
 "nbformat": 4,
 "nbformat_minor": 2,
 "cells": [
  {
   "source": [
    "## Modification: Using network analysis"
   ],
   "cell_type": "markdown",
   "metadata": {}
  },
  {
   "cell_type": "code",
   "execution_count": 39,
   "metadata": {},
   "outputs": [],
   "source": [
    "import pandas as pd\n",
    "from sklearn.model_selection import train_test_split\n",
    "\n",
    "df = pd.read_csv('dataset.csv', index_col=0)\n",
    "id_list = df['user_id'].to_list()"
   ]
  },
  {
   "cell_type": "code",
   "execution_count": 40,
   "metadata": {},
   "outputs": [
    {
     "output_type": "execute_result",
     "data": {
      "text/plain": [
       "   user_id  tweets_count  followers_count  friends_count  has_name  has_image  \\\n",
       "0  3610511          3057             5470           2385         1          1   \n",
       "1  5656162          3128              506            381         1          1   \n",
       "2  5682702          3158              264             87         1          1   \n",
       "3  6067292          3098              640            622         1          1   \n",
       "4  6015122          2012               62             64         1          1   \n",
       "\n",
       "   has_address  has_bio  profile_has_url  present_in_list  \\\n",
       "0            1        1                1                1   \n",
       "1            1        1                1                1   \n",
       "2            1        1                1                1   \n",
       "3            0        1                1                1   \n",
       "4            1        1                1                0   \n",
       "\n",
       "   friends_to_followers_ratio  label  \n",
       "0                    0.436015      1  \n",
       "1                    0.752964      1  \n",
       "2                    0.329545      1  \n",
       "3                    0.971875      1  \n",
       "4                    1.032258      1  "
      ],
      "text/html": "<div>\n<style scoped>\n    .dataframe tbody tr th:only-of-type {\n        vertical-align: middle;\n    }\n\n    .dataframe tbody tr th {\n        vertical-align: top;\n    }\n\n    .dataframe thead th {\n        text-align: right;\n    }\n</style>\n<table border=\"1\" class=\"dataframe\">\n  <thead>\n    <tr style=\"text-align: right;\">\n      <th></th>\n      <th>user_id</th>\n      <th>tweets_count</th>\n      <th>followers_count</th>\n      <th>friends_count</th>\n      <th>has_name</th>\n      <th>has_image</th>\n      <th>has_address</th>\n      <th>has_bio</th>\n      <th>profile_has_url</th>\n      <th>present_in_list</th>\n      <th>friends_to_followers_ratio</th>\n      <th>label</th>\n    </tr>\n  </thead>\n  <tbody>\n    <tr>\n      <th>0</th>\n      <td>3610511</td>\n      <td>3057</td>\n      <td>5470</td>\n      <td>2385</td>\n      <td>1</td>\n      <td>1</td>\n      <td>1</td>\n      <td>1</td>\n      <td>1</td>\n      <td>1</td>\n      <td>0.436015</td>\n      <td>1</td>\n    </tr>\n    <tr>\n      <th>1</th>\n      <td>5656162</td>\n      <td>3128</td>\n      <td>506</td>\n      <td>381</td>\n      <td>1</td>\n      <td>1</td>\n      <td>1</td>\n      <td>1</td>\n      <td>1</td>\n      <td>1</td>\n      <td>0.752964</td>\n      <td>1</td>\n    </tr>\n    <tr>\n      <th>2</th>\n      <td>5682702</td>\n      <td>3158</td>\n      <td>264</td>\n      <td>87</td>\n      <td>1</td>\n      <td>1</td>\n      <td>1</td>\n      <td>1</td>\n      <td>1</td>\n      <td>1</td>\n      <td>0.329545</td>\n      <td>1</td>\n    </tr>\n    <tr>\n      <th>3</th>\n      <td>6067292</td>\n      <td>3098</td>\n      <td>640</td>\n      <td>622</td>\n      <td>1</td>\n      <td>1</td>\n      <td>0</td>\n      <td>1</td>\n      <td>1</td>\n      <td>1</td>\n      <td>0.971875</td>\n      <td>1</td>\n    </tr>\n    <tr>\n      <th>4</th>\n      <td>6015122</td>\n      <td>2012</td>\n      <td>62</td>\n      <td>64</td>\n      <td>1</td>\n      <td>1</td>\n      <td>1</td>\n      <td>1</td>\n      <td>1</td>\n      <td>0</td>\n      <td>1.032258</td>\n      <td>1</td>\n    </tr>\n  </tbody>\n</table>\n</div>"
     },
     "metadata": {},
     "execution_count": 40
    }
   ],
   "source": [
    "df.head()"
   ]
  },
  {
   "cell_type": "code",
   "execution_count": 46,
   "metadata": {},
   "outputs": [],
   "source": [
    "import collections\n",
    "import pandas as pd \n",
    "\n",
    "# a = [1,1,1,1,2,2,2,2,3,3,4,5,5]\n",
    "\n",
    "# getting the follower count\n",
    "\n",
    "df3 = pd.read_csv('followers.csv')\n",
    "lst = df3['source_id'].to_list()\n",
    "follower_count = collections.Counter(lst)\n",
    "followers_count_sorted = sorted(follower_count.items())\n",
    "\n",
    "# getting friends count\n",
    "lst2 = df3['target_id'].to_list()\n",
    "friend_count = collections.Counter(lst2)\n",
    "friends_count_sorted = sorted(friend_count.items())\n",
    "\n",
    "user_id_list = list(set(follower_count.keys()) | set(friend_count.keys()) | set(id_list))\n"
   ]
  },
  {
   "cell_type": "code",
   "execution_count": 47,
   "metadata": {},
   "outputs": [
    {
     "output_type": "execute_result",
     "data": {
      "text/plain": [
       "    user_id  total_followers  total_friends\n",
       "0        12                0              0\n",
       "1        13                0              0\n",
       "2        14                0              0\n",
       "3        20                0              0\n",
       "4        34                0              0\n",
       "5        87                0              0\n",
       "6       107                0              0\n",
       "7       224                0              0\n",
       "8       246                0              0\n",
       "9       259                0              0\n",
       "10      295                0              0\n",
       "11      338                0              0\n",
       "12      380                0              0\n",
       "13      414                0              0\n",
       "14      418                0              0"
      ],
      "text/html": "<div>\n<style scoped>\n    .dataframe tbody tr th:only-of-type {\n        vertical-align: middle;\n    }\n\n    .dataframe tbody tr th {\n        vertical-align: top;\n    }\n\n    .dataframe thead th {\n        text-align: right;\n    }\n</style>\n<table border=\"1\" class=\"dataframe\">\n  <thead>\n    <tr style=\"text-align: right;\">\n      <th></th>\n      <th>user_id</th>\n      <th>total_followers</th>\n      <th>total_friends</th>\n    </tr>\n  </thead>\n  <tbody>\n    <tr>\n      <th>0</th>\n      <td>12</td>\n      <td>0</td>\n      <td>0</td>\n    </tr>\n    <tr>\n      <th>1</th>\n      <td>13</td>\n      <td>0</td>\n      <td>0</td>\n    </tr>\n    <tr>\n      <th>2</th>\n      <td>14</td>\n      <td>0</td>\n      <td>0</td>\n    </tr>\n    <tr>\n      <th>3</th>\n      <td>20</td>\n      <td>0</td>\n      <td>0</td>\n    </tr>\n    <tr>\n      <th>4</th>\n      <td>34</td>\n      <td>0</td>\n      <td>0</td>\n    </tr>\n    <tr>\n      <th>5</th>\n      <td>87</td>\n      <td>0</td>\n      <td>0</td>\n    </tr>\n    <tr>\n      <th>6</th>\n      <td>107</td>\n      <td>0</td>\n      <td>0</td>\n    </tr>\n    <tr>\n      <th>7</th>\n      <td>224</td>\n      <td>0</td>\n      <td>0</td>\n    </tr>\n    <tr>\n      <th>8</th>\n      <td>246</td>\n      <td>0</td>\n      <td>0</td>\n    </tr>\n    <tr>\n      <th>9</th>\n      <td>259</td>\n      <td>0</td>\n      <td>0</td>\n    </tr>\n    <tr>\n      <th>10</th>\n      <td>295</td>\n      <td>0</td>\n      <td>0</td>\n    </tr>\n    <tr>\n      <th>11</th>\n      <td>338</td>\n      <td>0</td>\n      <td>0</td>\n    </tr>\n    <tr>\n      <th>12</th>\n      <td>380</td>\n      <td>0</td>\n      <td>0</td>\n    </tr>\n    <tr>\n      <th>13</th>\n      <td>414</td>\n      <td>0</td>\n      <td>0</td>\n    </tr>\n    <tr>\n      <th>14</th>\n      <td>418</td>\n      <td>0</td>\n      <td>0</td>\n    </tr>\n  </tbody>\n</table>\n</div>"
     },
     "metadata": {},
     "execution_count": 47
    }
   ],
   "source": [
    "df2 = pd.DataFrame({'user_id':sorted(user_id_list)})\n",
    "df2['total_followers'] = [0] * len(user_id_list)\n",
    "df2['total_friends'] = [0] * len(user_id_list)\n",
    "df2.head(15)"
   ]
  },
  {
   "cell_type": "code",
   "execution_count": 48,
   "metadata": {},
   "outputs": [],
   "source": [
    "df_followers = pd.read_csv('followers.csv')"
   ]
  },
  {
   "cell_type": "code",
   "execution_count": 50,
   "metadata": {},
   "outputs": [],
   "source": [
    "df_friends = pd.read_csv('friends.csv')"
   ]
  },
  {
   "source": [
    "### Creating columns to be used for class C attributes"
   ],
   "cell_type": "markdown",
   "metadata": {}
  },
  {
   "cell_type": "code",
   "execution_count": 59,
   "metadata": {},
   "outputs": [],
   "source": [
    "for ind in df_followers.index:\n",
    "    account = df_followers['source_id'][ind]\n",
    "    follower = df_followers['target_id'][ind]\n",
    "\n",
    "    account_follower_count = follower_count[account]\n",
    "    follower_follower_count = follower_count[follower]\n",
    "\n",
    "    # df2[df2['user_id'] == account]['total_followers'] += follower_follower_count\n",
    "    # df2[df2['user_id'] == follower]['total_followers'] += account_follower_count\n",
    "\n",
    "    account_ind = df2.user_id[df2.user_id == account].index\n",
    "    follower_ind = df2.user_id[df2.user_id == follower].index\n",
    "\n",
    "    df2['total_followers'][account_ind] += follower_follower_count\n",
    "    df2['total_followers'][follower_ind] += account_follower_count"
   ]
  },
  {
   "cell_type": "code",
   "execution_count": 60,
   "metadata": {},
   "outputs": [],
   "source": [
    "for ind in df_followers.index:\n",
    "    account = df_followers['source_id'][ind]\n",
    "    follower = df_followers['target_id'][ind]\n",
    "\n",
    "    account_friend_count = friend_count[account]\n",
    "    follower_friend_count = friend_count[follower]\n",
    "\n",
    "    # df2[df2['user_id'] == account]['total_followers'] += follower_follower_count\n",
    "    # df2[df2['user_id'] == follower]['total_followers'] += account_follower_count\n",
    "\n",
    "    account_ind = df2.user_id[df2.user_id == account].index\n",
    "    follower_ind = df2.user_id[df2.user_id == follower].index\n",
    "\n",
    "    df2['total_friends'][account_ind] += follower_friend_count\n",
    "    df2['total_friends'][follower_ind] += account_friend_count"
   ]
  },
  {
   "cell_type": "code",
   "execution_count": 62,
   "metadata": {},
   "outputs": [],
   "source": [
    "df2.head(30)\n",
    "df2.to_csv('dataset-total.csv')"
   ]
  },
  {
   "source": [
    "### Creating columns for class C attributes"
   ],
   "cell_type": "markdown",
   "metadata": {}
  },
  {
   "cell_type": "code",
   "execution_count": 14,
   "metadata": {},
   "outputs": [],
   "source": [
    "df2['mean_followers'] = [0] * len(id_list)\n",
    "df2['mean_friends'] = [0] * len(id_list)"
   ]
  },
  {
   "cell_type": "code",
   "execution_count": 55,
   "metadata": {},
   "outputs": [],
   "source": [
    "for ind in df2.index:\n",
    "    account = df2['user_id'][ind]\n",
    "    total_neighbours = 0\n",
    "    total_neighbours = df[df['user_id'] == account]['followers_count']\n",
    "    total_neighbours += df[df['user_id'] == account]['friends_count']\n",
    "    if total_neighbours == 0:\n",
    "        df2['mean_followers'][ind] = 0\n",
    "        df2['mean_friends'][ind] = 0 \n",
    "    else:\n",
    "        df2['mean_followers'][ind] = df2['total_followers'][ind] / total_neighbours\n",
    "        df2['mean_friends'][ind] = df2['total_friends'][ind] / total_neighbours"
   ]
  },
  {
   "source": [
    "### Append these columns to the dataset"
   ],
   "cell_type": "markdown",
   "metadata": {}
  },
  {
   "cell_type": "code",
   "execution_count": 18,
   "metadata": {},
   "outputs": [],
   "source": [
    "mean_followers_list = df2['mean_followers'].to_list()\n",
    "mean_friends_list = df2['mean_friends'].to_list()\n",
    "mean_tweets_list = df2['mean_tweets'].to_list()\n",
    "\n",
    "df['mean_followers'] = mean_followers_list\n",
    "df['mean_friends'] = mean_friends_list\n",
    "df['mean_tweets'] = mean_tweets_list\n",
    "\n",
    "df.to_csv('dataset-2.csv')"
   ]
  }
 ]
}