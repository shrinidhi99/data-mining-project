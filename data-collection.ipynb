{
 "cells": [
  {
   "cell_type": "code",
   "execution_count": 328,
   "metadata": {
    "collapsed": true,
    "pycharm": {
     "name": "#%%\n"
    }
   },
   "outputs": [],
   "source": [
    "import pandas as pd\n",
    "import numpy as np"
   ]
  },
  {
   "cell_type": "markdown",
   "source": [
    "| Feature                   | Data Type | Description                                                                   |\n",
    "|---------------------------|-----------|-------------------------------------------------------------------------------|\n",
    "| has_name                  | boolean   | Checks if account has a name                                                  |\n",
    "| has_image                 | boolean   | Checks if account has all three images, profile background and something else |\n",
    "| has_address               | boolean   | Checks if account has address                                                 |\n",
    "| has_bio                   | boolean   | Checks if account has a bio                                                   |\n",
    "| profile_has_url           | boolean   | Checks if account has a URL in the profile description                        |\n",
    "| present_in_list           | boolean   | Checks if account is a part of a list for another account                     |\n",
    "| follower_count            | integer   | The number of accounts following the considered account                       |\n",
    "| tweet_count               | integer   | The number of tweets posted by the account                                    |\n",
    "| friends_to_follower_ratio | float     | The ratio of friends to followers, if followers are 0 then set to 1,00,000    |\n",
    "| Label                     | boolean   | Tells if the account is real or not                                           |\n"
   ],
   "metadata": {
    "collapsed": false
   }
  },
  {
   "cell_type": "code",
   "execution_count": 329,
   "outputs": [
    {
     "output_type": "execute_result",
     "data": {
      "text/plain": [
       "       id                name   screen_name  statuses_count  followers_count  \\\n",
       "0   24503  Roberto Bonanzinga    Bonanzinga            4340             5055   \n",
       "1   22903             effeffe       effeffe             164              132   \n",
       "2  382393        Ciro Cattuto          ciro            1070             1154   \n",
       "3  286543   Alessio Bragadini       abragad            6892              930   \n",
       "4  438023        fullcaffeine  fullcaffeine            2885              173   \n",
       "\n",
       "   friends_count  favourites_count  listed_count  \\\n",
       "0           1466               267           256   \n",
       "1            194                12             4   \n",
       "2            832               871            92   \n",
       "3            535               478            28   \n",
       "4            444                41             2   \n",
       "\n",
       "                       created_at                          url  ...  \\\n",
       "0  Mon Nov 27 06:55:12 +0000 2006       http://t.co/32VHs0bxbY  ...   \n",
       "1  Sun Nov 26 15:19:32 +0000 2006       http://t.co/CX7EHdk9DJ  ...   \n",
       "2  Sun Dec 31 02:03:17 +0000 2006       http://t.co/26dNjSYe5Q  ...   \n",
       "3  Wed Dec 27 14:55:17 +0000 2006       http://t.co/xoOdZi9jic  ...   \n",
       "4  Tue Jan 02 09:01:50 +0000 2007  http://www.fullcaffeine.com  ...   \n",
       "\n",
       "  profile_sidebar_fill_color  \\\n",
       "0                     99CC33   \n",
       "1                     EFEFEF   \n",
       "2                     DAECF4   \n",
       "3                     E0FF92   \n",
       "4                     EFEFEF   \n",
       "\n",
       "                        profile_background_image_url profile_background_color  \\\n",
       "0  http://a0.twimg.com/profile_background_images/...                   352726   \n",
       "1   http://a0.twimg.com/images/themes/theme14/bg.gif                   131516   \n",
       "2    http://a0.twimg.com/images/themes/theme2/bg.gif                   C6E2EE   \n",
       "3  http://a0.twimg.com/profile_background_images/...                   9AE4E8   \n",
       "4   http://a0.twimg.com/images/themes/theme14/bg.gif                   131516   \n",
       "\n",
       "   profile_link_color  utc_offset  protected verified  \\\n",
       "0              D02B55    -28800.0        NaN      NaN   \n",
       "1              009999      3600.0        NaN      NaN   \n",
       "2              1F98C7      3600.0        NaN      NaN   \n",
       "3              0000FF      3600.0        NaN      NaN   \n",
       "4              009999      3600.0        NaN      NaN   \n",
       "\n",
       "                                         description              updated  \\\n",
       "0  Partner at Balderton Capital (formerly Benchma...  2015-02-14 11:32:57   \n",
       "1  L'uomo ha creato dio a sua immagine e somiglia...  2015-02-14 11:32:57   \n",
       "2  Research Director at ISI Foundation. Data scie...  2015-02-14 11:32:57   \n",
       "3          Web and social media developer from Italy  2015-02-14 11:32:57   \n",
       "4                                                NaN  2015-02-14 11:32:57   \n",
       "\n",
       "  dataset  \n",
       "0     TFP  \n",
       "1     TFP  \n",
       "2     TFP  \n",
       "3     TFP  \n",
       "4     TFP  \n",
       "\n",
       "[5 rows x 34 columns]"
      ],
      "text/html": "<div>\n<style scoped>\n    .dataframe tbody tr th:only-of-type {\n        vertical-align: middle;\n    }\n\n    .dataframe tbody tr th {\n        vertical-align: top;\n    }\n\n    .dataframe thead th {\n        text-align: right;\n    }\n</style>\n<table border=\"1\" class=\"dataframe\">\n  <thead>\n    <tr style=\"text-align: right;\">\n      <th></th>\n      <th>id</th>\n      <th>name</th>\n      <th>screen_name</th>\n      <th>statuses_count</th>\n      <th>followers_count</th>\n      <th>friends_count</th>\n      <th>favourites_count</th>\n      <th>listed_count</th>\n      <th>created_at</th>\n      <th>url</th>\n      <th>...</th>\n      <th>profile_sidebar_fill_color</th>\n      <th>profile_background_image_url</th>\n      <th>profile_background_color</th>\n      <th>profile_link_color</th>\n      <th>utc_offset</th>\n      <th>protected</th>\n      <th>verified</th>\n      <th>description</th>\n      <th>updated</th>\n      <th>dataset</th>\n    </tr>\n  </thead>\n  <tbody>\n    <tr>\n      <th>0</th>\n      <td>24503</td>\n      <td>Roberto Bonanzinga</td>\n      <td>Bonanzinga</td>\n      <td>4340</td>\n      <td>5055</td>\n      <td>1466</td>\n      <td>267</td>\n      <td>256</td>\n      <td>Mon Nov 27 06:55:12 +0000 2006</td>\n      <td>http://t.co/32VHs0bxbY</td>\n      <td>...</td>\n      <td>99CC33</td>\n      <td>http://a0.twimg.com/profile_background_images/...</td>\n      <td>352726</td>\n      <td>D02B55</td>\n      <td>-28800.0</td>\n      <td>NaN</td>\n      <td>NaN</td>\n      <td>Partner at Balderton Capital (formerly Benchma...</td>\n      <td>2015-02-14 11:32:57</td>\n      <td>TFP</td>\n    </tr>\n    <tr>\n      <th>1</th>\n      <td>22903</td>\n      <td>effeffe</td>\n      <td>effeffe</td>\n      <td>164</td>\n      <td>132</td>\n      <td>194</td>\n      <td>12</td>\n      <td>4</td>\n      <td>Sun Nov 26 15:19:32 +0000 2006</td>\n      <td>http://t.co/CX7EHdk9DJ</td>\n      <td>...</td>\n      <td>EFEFEF</td>\n      <td>http://a0.twimg.com/images/themes/theme14/bg.gif</td>\n      <td>131516</td>\n      <td>009999</td>\n      <td>3600.0</td>\n      <td>NaN</td>\n      <td>NaN</td>\n      <td>L'uomo ha creato dio a sua immagine e somiglia...</td>\n      <td>2015-02-14 11:32:57</td>\n      <td>TFP</td>\n    </tr>\n    <tr>\n      <th>2</th>\n      <td>382393</td>\n      <td>Ciro Cattuto</td>\n      <td>ciro</td>\n      <td>1070</td>\n      <td>1154</td>\n      <td>832</td>\n      <td>871</td>\n      <td>92</td>\n      <td>Sun Dec 31 02:03:17 +0000 2006</td>\n      <td>http://t.co/26dNjSYe5Q</td>\n      <td>...</td>\n      <td>DAECF4</td>\n      <td>http://a0.twimg.com/images/themes/theme2/bg.gif</td>\n      <td>C6E2EE</td>\n      <td>1F98C7</td>\n      <td>3600.0</td>\n      <td>NaN</td>\n      <td>NaN</td>\n      <td>Research Director at ISI Foundation. Data scie...</td>\n      <td>2015-02-14 11:32:57</td>\n      <td>TFP</td>\n    </tr>\n    <tr>\n      <th>3</th>\n      <td>286543</td>\n      <td>Alessio Bragadini</td>\n      <td>abragad</td>\n      <td>6892</td>\n      <td>930</td>\n      <td>535</td>\n      <td>478</td>\n      <td>28</td>\n      <td>Wed Dec 27 14:55:17 +0000 2006</td>\n      <td>http://t.co/xoOdZi9jic</td>\n      <td>...</td>\n      <td>E0FF92</td>\n      <td>http://a0.twimg.com/profile_background_images/...</td>\n      <td>9AE4E8</td>\n      <td>0000FF</td>\n      <td>3600.0</td>\n      <td>NaN</td>\n      <td>NaN</td>\n      <td>Web and social media developer from Italy</td>\n      <td>2015-02-14 11:32:57</td>\n      <td>TFP</td>\n    </tr>\n    <tr>\n      <th>4</th>\n      <td>438023</td>\n      <td>fullcaffeine</td>\n      <td>fullcaffeine</td>\n      <td>2885</td>\n      <td>173</td>\n      <td>444</td>\n      <td>41</td>\n      <td>2</td>\n      <td>Tue Jan 02 09:01:50 +0000 2007</td>\n      <td>http://www.fullcaffeine.com</td>\n      <td>...</td>\n      <td>EFEFEF</td>\n      <td>http://a0.twimg.com/images/themes/theme14/bg.gif</td>\n      <td>131516</td>\n      <td>009999</td>\n      <td>3600.0</td>\n      <td>NaN</td>\n      <td>NaN</td>\n      <td>NaN</td>\n      <td>2015-02-14 11:32:57</td>\n      <td>TFP</td>\n    </tr>\n  </tbody>\n</table>\n<p>5 rows × 34 columns</p>\n</div>"
     },
     "metadata": {},
     "execution_count": 329
    }
   ],
   "source": [
    "path = 'TFP.csv'\n",
    "\n",
    "df = pd.read_csv(path + '/users.csv')\n",
    "df.head()"
   ],
   "metadata": {
    "collapsed": false,
    "pycharm": {
     "name": "#%%\n"
    }
   }
  },
  {
   "cell_type": "markdown",
   "source": [
    "* [x] id\n",
    "* [x] tweet_count\n",
    "* [x] has_name\n",
    "* [x] has_image\n",
    "* [x] has_address\n",
    "* [x] has_bio\n",
    "* [x] profile_has_url\n",
    "* [x] present_in_list\n",
    "* [x] follower_count\n",
    "* [x] friends_to_follower_ratio\n",
    "* [x] Label"
   ],
   "metadata": {
    "collapsed": false
   }
  },
  {
   "cell_type": "code",
   "execution_count": 330,
   "outputs": [],
   "source": [
    "# convert relevant columns to list\n",
    "\n",
    "# id, friends_count, followers_count\n",
    "id_list = df['id'].to_list()\n",
    "friends_count_list = df['friends_count'].to_list()\n",
    "followers_count_list = df['followers_count'].to_list()\n",
    "labels = [1] * len(id_list)"
   ],
   "metadata": {
    "collapsed": false,
    "pycharm": {
     "name": "#%%\n"
    }
   }
  },
  {
   "cell_type": "code",
   "execution_count": 331,
   "outputs": [],
   "source": [
    "# has_name\n",
    "df['has_name'] = int(len(df['name']) != 0 and len(df['screen_name']) != 0)\n",
    "has_name_list = df['has_name'].to_list()"
   ],
   "metadata": {
    "collapsed": false,
    "pycharm": {
     "name": "#%%\n"
    }
   }
  },
  {
   "cell_type": "code",
   "execution_count": 332,
   "outputs": [],
   "source": [
    "# has_image\n",
    "\n",
    "# df['profile_image_url'].isnull()\n",
    "# since we do not have any null values in profile_image_url, we can convert this column into a list of boolean values\n",
    "# has_image = df['profile_image_url'].isnull().to_list()\n",
    "# image_url = df['profile_image_url'].to_list()\n",
    "has_image = df['default_profile_image'].to_list()\n",
    "# df['profile_image_url'].isnull().values.any()\n",
    "\n",
    "length = len(has_image)\n",
    "for i in range(length):\n",
    "    if has_image[i] != 1.0:\n",
    "        has_image[i] = 1\n",
    "    else:\n",
    "        has_image[i] = 0"
   ],
   "metadata": {
    "collapsed": false,
    "pycharm": {
     "name": "#%%\n"
    }
   }
  },
  {
   "cell_type": "code",
   "execution_count": 333,
   "outputs": [],
   "source": [
    "# has_address\n",
    "\n",
    "has_address_list = df['location'].isnull().to_list()\n",
    "\n",
    "length = len(has_address_list)\n",
    "for i in range(length):\n",
    "    has_address_list[i] = 1 - int(has_address_list[i])"
   ],
   "metadata": {
    "collapsed": false,
    "pycharm": {
     "name": "#%%\n"
    }
   }
  },
  {
   "cell_type": "code",
   "execution_count": 334,
   "outputs": [],
   "source": [
    "# has_bio\n",
    "\n",
    "has_bio_list = df['description'].isnull().to_list()\n",
    "\n",
    "length = len(has_bio_list)\n",
    "for i in range(length):\n",
    "    has_bio_list[i] = 1 - int(has_bio_list[i])"
   ],
   "metadata": {
    "collapsed": false,
    "pycharm": {
     "name": "#%%\n"
    }
   }
  },
  {
   "cell_type": "code",
   "execution_count": 335,
   "outputs": [],
   "source": [
    "# profile_has_url\n",
    "\n",
    "profile_has_url = df['url'].isnull().to_list()\n",
    "\n",
    "length = len(profile_has_url)\n",
    "for i in range(length):\n",
    "    profile_has_url[i] = 1 - int(profile_has_url[i])"
   ],
   "metadata": {
    "collapsed": false,
    "pycharm": {
     "name": "#%%\n"
    }
   }
  },
  {
   "cell_type": "code",
   "execution_count": 336,
   "outputs": [],
   "source": [
    "# present_in_list\n",
    "present_in_list = df['listed_count'].to_list()\n",
    "\n",
    "length = len(present_in_list)\n",
    "for i in range(length):\n",
    "    if present_in_list[i] > 0:\n",
    "        present_in_list[i] = 1"
   ],
   "metadata": {
    "collapsed": false,
    "pycharm": {
     "name": "#%%\n"
    }
   }
  },
  {
   "cell_type": "code",
   "execution_count": 337,
   "metadata": {
    "pycharm": {
     "name": "#%%\n"
    }
   },
   "outputs": [],
   "source": [
    "# friends_to_followers_ratio_list\n",
    "\n",
    "friends_to_followers_ratio_list = [0] * len(id_list)\n",
    "\n",
    "length = len(friends_count_list)\n",
    "for i in range(length):\n",
    "    if(followers_count_list[i] == 0):\n",
    "        friends_to_followers_ratio_list[i] = 100000 # basically an upper cap to infinity\n",
    "    else:\n",
    "        friends_to_followers_ratio_list[i] = (friends_count_list[i]) / (followers_count_list[i])"
   ]
  },
  {
   "cell_type": "code",
   "execution_count": 338,
   "metadata": {
    "tags": []
   },
   "outputs": [],
   "source": [
    "# tweet_count\n",
    "\n",
    "import collections\n",
    "import pandas as pd \n",
    "\n",
    "# a = [1,1,1,1,2,2,2,2,3,3,4,5,5]\n",
    "\n",
    "df = pd.read_csv(path + '/tweets.csv')\n",
    "lst = df['user_id'].to_list()\n",
    "tweet_count = collections.Counter(lst)\n",
    "\n",
    "# 111\n",
    "\n",
    "tweet_count_list = []\n",
    "\n",
    "for user in id_list:\n",
    "    if user in tweet_count.keys():\n",
    "        tweet_count_list.append(tweet_count[user])\n",
    "    else:\n",
    "        tweet_count_list.append(0)\n",
    "\n",
    "# print(len(tweet_count))\n",
    "# Counter({1: 4, 2: 4, 3: 2, 5: 2, 4: 1})\n",
    "# print(counter.values())\n",
    "# [4, 4, 2, 1, 2]\n",
    "# print(counter.keys())\n",
    "# [1, 2, 3, 4, 5]\n"
   ]
  },
  {
   "cell_type": "code",
   "execution_count": 339,
   "metadata": {},
   "outputs": [
    {
     "output_type": "stream",
     "name": "stdout",
     "text": [
      "        user_id\n0         24503\n1         22903\n2        382393\n3        286543\n4        438023\n..          ...\n464  1010894497\n465    39588706\n466    13972932\n467    90626911\n468   321257315\n\n[469 rows x 1 columns]\n"
     ]
    }
   ],
   "source": [
    "# convert all lists to columns of a new dataframe\n",
    "\n",
    "import pandas as pd\n",
    "\n",
    "df2 = pd.DataFrame({'user_id':id_list})\n",
    "print (df2)"
   ]
  },
  {
   "cell_type": "code",
   "execution_count": 340,
   "metadata": {},
   "outputs": [],
   "source": [
    "df2['tweets_count'] = tweet_count_list"
   ]
  },
  {
   "cell_type": "code",
   "execution_count": 341,
   "metadata": {},
   "outputs": [
    {
     "output_type": "execute_result",
     "data": {
      "text/plain": [
       "   user_id  tweets_count\n",
       "0    24503          3531\n",
       "1    22903           164\n",
       "2   382393          1069\n",
       "3   286543          3404\n",
       "4   438023          2884"
      ],
      "text/html": "<div>\n<style scoped>\n    .dataframe tbody tr th:only-of-type {\n        vertical-align: middle;\n    }\n\n    .dataframe tbody tr th {\n        vertical-align: top;\n    }\n\n    .dataframe thead th {\n        text-align: right;\n    }\n</style>\n<table border=\"1\" class=\"dataframe\">\n  <thead>\n    <tr style=\"text-align: right;\">\n      <th></th>\n      <th>user_id</th>\n      <th>tweets_count</th>\n    </tr>\n  </thead>\n  <tbody>\n    <tr>\n      <th>0</th>\n      <td>24503</td>\n      <td>3531</td>\n    </tr>\n    <tr>\n      <th>1</th>\n      <td>22903</td>\n      <td>164</td>\n    </tr>\n    <tr>\n      <th>2</th>\n      <td>382393</td>\n      <td>1069</td>\n    </tr>\n    <tr>\n      <th>3</th>\n      <td>286543</td>\n      <td>3404</td>\n    </tr>\n    <tr>\n      <th>4</th>\n      <td>438023</td>\n      <td>2884</td>\n    </tr>\n  </tbody>\n</table>\n</div>"
     },
     "metadata": {},
     "execution_count": 341
    }
   ],
   "source": [
    "df2.head()"
   ]
  },
  {
   "cell_type": "code",
   "execution_count": 342,
   "metadata": {},
   "outputs": [],
   "source": [
    "df2['followers_count'] = followers_count_list\n",
    "df2['friends_count'] = friends_count_list\n",
    "df2['has_name'] = has_name_list\n",
    "df2['has_image'] = has_image\n",
    "df2['has_address'] = has_address_list\n",
    "df2['has_bio'] = has_bio_list\n",
    "df2['profile_has_url'] = profile_has_url\n",
    "df2['present_in_list'] = present_in_list\n",
    "df2['friends_to_followers_ratio'] = friends_to_followers_ratio_list\n",
    "df2['label'] = labels"
   ]
  },
  {
   "cell_type": "code",
   "execution_count": 343,
   "metadata": {},
   "outputs": [
    {
     "output_type": "execute_result",
     "data": {
      "text/plain": [
       "     user_id  tweets_count  followers_count  friends_count  has_name  \\\n",
       "0      24503          3531             5055           1466         1   \n",
       "1      22903           164              132            194         1   \n",
       "2     382393          1069             1154            832         1   \n",
       "3     286543          3404              930            535         1   \n",
       "4     438023          2884              173            444         1   \n",
       "..       ...           ...              ...            ...       ...   \n",
       "95  50650272           272               95            133         1   \n",
       "96  51065893          1288               75            281         1   \n",
       "97  51169895          3247              675            373         1   \n",
       "98  51484684          2021              143            371         1   \n",
       "99  52140322            31               59            211         1   \n",
       "\n",
       "    has_image  has_address  has_bio  profile_has_url  present_in_list  \\\n",
       "0           1            1        1                1                1   \n",
       "1           1            1        1                1                1   \n",
       "2           1            1        1                1                1   \n",
       "3           1            1        1                1                1   \n",
       "4           1            1        0                1                1   \n",
       "..        ...          ...      ...              ...              ...   \n",
       "95          1            1        1                0                1   \n",
       "96          1            0        0                0                0   \n",
       "97          1            1        1                1                1   \n",
       "98          1            1        1                1                1   \n",
       "99          1            0        1                0                1   \n",
       "\n",
       "    friends_to_followers_ratio  label  \n",
       "0                     0.290010      1  \n",
       "1                     1.469697      1  \n",
       "2                     0.720971      1  \n",
       "3                     0.575269      1  \n",
       "4                     2.566474      1  \n",
       "..                         ...    ...  \n",
       "95                    1.400000      1  \n",
       "96                    3.746667      1  \n",
       "97                    0.552593      1  \n",
       "98                    2.594406      1  \n",
       "99                    3.576271      1  \n",
       "\n",
       "[100 rows x 12 columns]"
      ],
      "text/html": "<div>\n<style scoped>\n    .dataframe tbody tr th:only-of-type {\n        vertical-align: middle;\n    }\n\n    .dataframe tbody tr th {\n        vertical-align: top;\n    }\n\n    .dataframe thead th {\n        text-align: right;\n    }\n</style>\n<table border=\"1\" class=\"dataframe\">\n  <thead>\n    <tr style=\"text-align: right;\">\n      <th></th>\n      <th>user_id</th>\n      <th>tweets_count</th>\n      <th>followers_count</th>\n      <th>friends_count</th>\n      <th>has_name</th>\n      <th>has_image</th>\n      <th>has_address</th>\n      <th>has_bio</th>\n      <th>profile_has_url</th>\n      <th>present_in_list</th>\n      <th>friends_to_followers_ratio</th>\n      <th>label</th>\n    </tr>\n  </thead>\n  <tbody>\n    <tr>\n      <th>0</th>\n      <td>24503</td>\n      <td>3531</td>\n      <td>5055</td>\n      <td>1466</td>\n      <td>1</td>\n      <td>1</td>\n      <td>1</td>\n      <td>1</td>\n      <td>1</td>\n      <td>1</td>\n      <td>0.290010</td>\n      <td>1</td>\n    </tr>\n    <tr>\n      <th>1</th>\n      <td>22903</td>\n      <td>164</td>\n      <td>132</td>\n      <td>194</td>\n      <td>1</td>\n      <td>1</td>\n      <td>1</td>\n      <td>1</td>\n      <td>1</td>\n      <td>1</td>\n      <td>1.469697</td>\n      <td>1</td>\n    </tr>\n    <tr>\n      <th>2</th>\n      <td>382393</td>\n      <td>1069</td>\n      <td>1154</td>\n      <td>832</td>\n      <td>1</td>\n      <td>1</td>\n      <td>1</td>\n      <td>1</td>\n      <td>1</td>\n      <td>1</td>\n      <td>0.720971</td>\n      <td>1</td>\n    </tr>\n    <tr>\n      <th>3</th>\n      <td>286543</td>\n      <td>3404</td>\n      <td>930</td>\n      <td>535</td>\n      <td>1</td>\n      <td>1</td>\n      <td>1</td>\n      <td>1</td>\n      <td>1</td>\n      <td>1</td>\n      <td>0.575269</td>\n      <td>1</td>\n    </tr>\n    <tr>\n      <th>4</th>\n      <td>438023</td>\n      <td>2884</td>\n      <td>173</td>\n      <td>444</td>\n      <td>1</td>\n      <td>1</td>\n      <td>1</td>\n      <td>0</td>\n      <td>1</td>\n      <td>1</td>\n      <td>2.566474</td>\n      <td>1</td>\n    </tr>\n    <tr>\n      <th>...</th>\n      <td>...</td>\n      <td>...</td>\n      <td>...</td>\n      <td>...</td>\n      <td>...</td>\n      <td>...</td>\n      <td>...</td>\n      <td>...</td>\n      <td>...</td>\n      <td>...</td>\n      <td>...</td>\n      <td>...</td>\n    </tr>\n    <tr>\n      <th>95</th>\n      <td>50650272</td>\n      <td>272</td>\n      <td>95</td>\n      <td>133</td>\n      <td>1</td>\n      <td>1</td>\n      <td>1</td>\n      <td>1</td>\n      <td>0</td>\n      <td>1</td>\n      <td>1.400000</td>\n      <td>1</td>\n    </tr>\n    <tr>\n      <th>96</th>\n      <td>51065893</td>\n      <td>1288</td>\n      <td>75</td>\n      <td>281</td>\n      <td>1</td>\n      <td>1</td>\n      <td>0</td>\n      <td>0</td>\n      <td>0</td>\n      <td>0</td>\n      <td>3.746667</td>\n      <td>1</td>\n    </tr>\n    <tr>\n      <th>97</th>\n      <td>51169895</td>\n      <td>3247</td>\n      <td>675</td>\n      <td>373</td>\n      <td>1</td>\n      <td>1</td>\n      <td>1</td>\n      <td>1</td>\n      <td>1</td>\n      <td>1</td>\n      <td>0.552593</td>\n      <td>1</td>\n    </tr>\n    <tr>\n      <th>98</th>\n      <td>51484684</td>\n      <td>2021</td>\n      <td>143</td>\n      <td>371</td>\n      <td>1</td>\n      <td>1</td>\n      <td>1</td>\n      <td>1</td>\n      <td>1</td>\n      <td>1</td>\n      <td>2.594406</td>\n      <td>1</td>\n    </tr>\n    <tr>\n      <th>99</th>\n      <td>52140322</td>\n      <td>31</td>\n      <td>59</td>\n      <td>211</td>\n      <td>1</td>\n      <td>1</td>\n      <td>0</td>\n      <td>1</td>\n      <td>0</td>\n      <td>1</td>\n      <td>3.576271</td>\n      <td>1</td>\n    </tr>\n  </tbody>\n</table>\n<p>100 rows × 12 columns</p>\n</div>"
     },
     "metadata": {},
     "execution_count": 343
    }
   ],
   "source": [
    "df2.head(100)"
   ]
  },
  {
   "cell_type": "code",
   "execution_count": 344,
   "metadata": {},
   "outputs": [],
   "source": [
    "df2.to_csv('TFP-formatted.csv')"
   ]
  }
 ],
 "metadata": {
  "kernelspec": {
   "name": "pycharm-ca084c4",
   "language": "python",
   "display_name": "PyCharm (machine-learning-tutorials-eckovation)"
  },
  "language_info": {
   "codemirror_mode": {
    "name": "ipython",
    "version": 2
   },
   "file_extension": ".py",
   "mimetype": "text/x-python",
   "name": "python",
   "nbconvert_exporter": "python",
   "pygments_lexer": "ipython2",
   "version": "3.6.9-final"
  }
 },
 "nbformat": 4,
 "nbformat_minor": 0
}