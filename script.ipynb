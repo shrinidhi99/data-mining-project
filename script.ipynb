{
 "cells": [
  {
   "cell_type": "code",
   "execution_count": 23,
   "metadata": {
    "collapsed": true,
    "pycharm": {
     "name": "#%%\n"
    }
   },
   "outputs": [],
   "source": [
    "import pandas as pd\n",
    "import numpy as np"
   ]
  },
  {
   "cell_type": "markdown",
   "source": [
    "|                           | Data Type | Description                                                                   |\n",
    "|---------------------------|-----------|-------------------------------------------------------------------------------|\n",
    "| has_name                  | boolean   | Checks if account has a name                                                  |\n",
    "| has_image                 | boolean   | Checks if account has all three images, profile background and something else |\n",
    "| has_address               | boolean   | Checks if account has address                                                 |\n",
    "| has_bio                   | boolean   | Checks if account has a bio                                                   |\n",
    "| profile_has_url           | boolean   | Checks if account has a URL in the profile description                        |\n",
    "| present_in_list           | boolean   | Checks if account is a part of a list for another account                     |\n",
    "| follower_count            | integer   | The number of accounts following the considered account                       |\n",
    "| tweet_count               | integer   | The number of tweets posted by the account                                    |\n",
    "| friends_to_follower_ratio | float     | The ratio of friends to followers, if followers are 0 then set to 1,00,000    |\n",
    "| Label                     | boolean   | Tells if the account is real or not                                           |\n"
   ],
   "metadata": {
    "collapsed": false
   }
  },
  {
   "cell_type": "code",
   "execution_count": 24,
   "outputs": [
    {
     "output_type": "execute_result",
     "data": {
      "text/plain": [
       "        id              name screen_name  statuses_count  followers_count  \\\n",
       "0  3610511  Davide Dellacasa      braddd           20370             5470   \n",
       "1  5656162    Simone Economo       eKoeS            3131              506   \n",
       "2  5682702            tacone     tacone_            4024              264   \n",
       "3  6067292          alesaura    alesstar           40586              640   \n",
       "4  6015122            Angelo  PerDiletto            2016               62   \n",
       "\n",
       "   friends_count  favourites_count  listed_count  \\\n",
       "0           2385               145            52   \n",
       "1            381                 9            40   \n",
       "2             87               323            16   \n",
       "3            622              1118            32   \n",
       "4             64                13             0   \n",
       "\n",
       "                       created_at                                url  ...  \\\n",
       "0  Fri Apr 06 10:58:22 +0000 2007           http://braddd.tumblr.com  ...   \n",
       "1  Mon Apr 30 15:08:42 +0000 2007         http://www.lineheight.net/  ...   \n",
       "2  Tue May 01 11:53:40 +0000 2007               http://t.co/LKrl1dZE  ...   \n",
       "3  Tue May 15 16:55:16 +0000 2007     http://alesstar.wordpress.com/  ...   \n",
       "4  Sun May 13 19:52:00 +0000 2007  http://www.flickr.com/per_diletto  ...   \n",
       "\n",
       "  profile_sidebar_fill_color  \\\n",
       "0                     FFF7CC   \n",
       "1                     DDEEF6   \n",
       "2                     000000   \n",
       "3                     95E8EC   \n",
       "4                     F6F6F6   \n",
       "\n",
       "                        profile_background_image_url profile_background_color  \\\n",
       "0  http://a0.twimg.com/profile_background_images/...                   BADFCD   \n",
       "1    http://a0.twimg.com/images/themes/theme1/bg.png                   C0DEED   \n",
       "2  http://a0.twimg.com/profile_background_images/...                   1A1B1F   \n",
       "3    http://a0.twimg.com/images/themes/theme4/bg.gif                   0099B9   \n",
       "4   http://a0.twimg.com/images/themes/theme18/bg.gif                   ACDED6   \n",
       "\n",
       "   profile_link_color  utc_offset  protected verified  \\\n",
       "0              FF0000      3600.0        NaN      NaN   \n",
       "1              0084B4      3600.0        NaN      NaN   \n",
       "2              2FC2EF      3600.0        NaN      NaN   \n",
       "3              0099B9      3600.0        NaN      NaN   \n",
       "4              038543      3600.0        NaN      NaN   \n",
       "\n",
       "                                         description              updated  \\\n",
       "0  Founder of http://www.screenweek.it & http://w...  2015-02-14 10:54:49   \n",
       "1  BSc degree (cum laude) in Computer Engineering...  2015-02-14 10:54:49   \n",
       "2                             Cogito ergo bestemmio.  2015-02-14 10:54:49   \n",
       "3               Se la vita ti dà sarde, scapocciale!  2015-02-14 10:54:49   \n",
       "4                                     Je me souviens  2015-02-14 10:54:49   \n",
       "\n",
       "  dataset  \n",
       "0     E13  \n",
       "1     E13  \n",
       "2     E13  \n",
       "3     E13  \n",
       "4     E13  \n",
       "\n",
       "[5 rows x 34 columns]"
      ],
      "text/html": "<div>\n<style scoped>\n    .dataframe tbody tr th:only-of-type {\n        vertical-align: middle;\n    }\n\n    .dataframe tbody tr th {\n        vertical-align: top;\n    }\n\n    .dataframe thead th {\n        text-align: right;\n    }\n</style>\n<table border=\"1\" class=\"dataframe\">\n  <thead>\n    <tr style=\"text-align: right;\">\n      <th></th>\n      <th>id</th>\n      <th>name</th>\n      <th>screen_name</th>\n      <th>statuses_count</th>\n      <th>followers_count</th>\n      <th>friends_count</th>\n      <th>favourites_count</th>\n      <th>listed_count</th>\n      <th>created_at</th>\n      <th>url</th>\n      <th>...</th>\n      <th>profile_sidebar_fill_color</th>\n      <th>profile_background_image_url</th>\n      <th>profile_background_color</th>\n      <th>profile_link_color</th>\n      <th>utc_offset</th>\n      <th>protected</th>\n      <th>verified</th>\n      <th>description</th>\n      <th>updated</th>\n      <th>dataset</th>\n    </tr>\n  </thead>\n  <tbody>\n    <tr>\n      <th>0</th>\n      <td>3610511</td>\n      <td>Davide Dellacasa</td>\n      <td>braddd</td>\n      <td>20370</td>\n      <td>5470</td>\n      <td>2385</td>\n      <td>145</td>\n      <td>52</td>\n      <td>Fri Apr 06 10:58:22 +0000 2007</td>\n      <td>http://braddd.tumblr.com</td>\n      <td>...</td>\n      <td>FFF7CC</td>\n      <td>http://a0.twimg.com/profile_background_images/...</td>\n      <td>BADFCD</td>\n      <td>FF0000</td>\n      <td>3600.0</td>\n      <td>NaN</td>\n      <td>NaN</td>\n      <td>Founder of http://www.screenweek.it &amp; http://w...</td>\n      <td>2015-02-14 10:54:49</td>\n      <td>E13</td>\n    </tr>\n    <tr>\n      <th>1</th>\n      <td>5656162</td>\n      <td>Simone Economo</td>\n      <td>eKoeS</td>\n      <td>3131</td>\n      <td>506</td>\n      <td>381</td>\n      <td>9</td>\n      <td>40</td>\n      <td>Mon Apr 30 15:08:42 +0000 2007</td>\n      <td>http://www.lineheight.net/</td>\n      <td>...</td>\n      <td>DDEEF6</td>\n      <td>http://a0.twimg.com/images/themes/theme1/bg.png</td>\n      <td>C0DEED</td>\n      <td>0084B4</td>\n      <td>3600.0</td>\n      <td>NaN</td>\n      <td>NaN</td>\n      <td>BSc degree (cum laude) in Computer Engineering...</td>\n      <td>2015-02-14 10:54:49</td>\n      <td>E13</td>\n    </tr>\n    <tr>\n      <th>2</th>\n      <td>5682702</td>\n      <td>tacone</td>\n      <td>tacone_</td>\n      <td>4024</td>\n      <td>264</td>\n      <td>87</td>\n      <td>323</td>\n      <td>16</td>\n      <td>Tue May 01 11:53:40 +0000 2007</td>\n      <td>http://t.co/LKrl1dZE</td>\n      <td>...</td>\n      <td>000000</td>\n      <td>http://a0.twimg.com/profile_background_images/...</td>\n      <td>1A1B1F</td>\n      <td>2FC2EF</td>\n      <td>3600.0</td>\n      <td>NaN</td>\n      <td>NaN</td>\n      <td>Cogito ergo bestemmio.</td>\n      <td>2015-02-14 10:54:49</td>\n      <td>E13</td>\n    </tr>\n    <tr>\n      <th>3</th>\n      <td>6067292</td>\n      <td>alesaura</td>\n      <td>alesstar</td>\n      <td>40586</td>\n      <td>640</td>\n      <td>622</td>\n      <td>1118</td>\n      <td>32</td>\n      <td>Tue May 15 16:55:16 +0000 2007</td>\n      <td>http://alesstar.wordpress.com/</td>\n      <td>...</td>\n      <td>95E8EC</td>\n      <td>http://a0.twimg.com/images/themes/theme4/bg.gif</td>\n      <td>0099B9</td>\n      <td>0099B9</td>\n      <td>3600.0</td>\n      <td>NaN</td>\n      <td>NaN</td>\n      <td>Se la vita ti dà sarde, scapocciale!</td>\n      <td>2015-02-14 10:54:49</td>\n      <td>E13</td>\n    </tr>\n    <tr>\n      <th>4</th>\n      <td>6015122</td>\n      <td>Angelo</td>\n      <td>PerDiletto</td>\n      <td>2016</td>\n      <td>62</td>\n      <td>64</td>\n      <td>13</td>\n      <td>0</td>\n      <td>Sun May 13 19:52:00 +0000 2007</td>\n      <td>http://www.flickr.com/per_diletto</td>\n      <td>...</td>\n      <td>F6F6F6</td>\n      <td>http://a0.twimg.com/images/themes/theme18/bg.gif</td>\n      <td>ACDED6</td>\n      <td>038543</td>\n      <td>3600.0</td>\n      <td>NaN</td>\n      <td>NaN</td>\n      <td>Je me souviens</td>\n      <td>2015-02-14 10:54:49</td>\n      <td>E13</td>\n    </tr>\n  </tbody>\n</table>\n<p>5 rows × 34 columns</p>\n</div>"
     },
     "metadata": {},
     "execution_count": 24
    }
   ],
   "source": [
    "path = 'E13.csv'\n",
    "\n",
    "df = pd.read_csv(path + '/users.csv')\n",
    "df.head()"
   ],
   "metadata": {
    "collapsed": false,
    "pycharm": {
     "name": "#%%\n"
    }
   }
  },
  {
   "cell_type": "markdown",
   "source": [
    "* [x] id\n",
    "* [x] tweet_count\n",
    "* [x] has_name\n",
    "* [x] has_image\n",
    "* [x] has_address\n",
    "* [x] has_bio\n",
    "* [x] profile_has_url\n",
    "* [x] present_in_list\n",
    "* [x] follower_count\n",
    "* [x] friends_to_follower_ratio\n",
    "* [x] Label"
   ],
   "metadata": {
    "collapsed": false
   }
  },
  {
   "cell_type": "code",
   "execution_count": 25,
   "outputs": [],
   "source": [
    "# convert relevant columns to list\n",
    "\n",
    "# id, friends_count, followers_count\n",
    "id_list = df['id'].to_list()\n",
    "friends_count_list = df['friends_count'].to_list()\n",
    "followers_count_list = df['followers_count'].to_list()\n",
    "labels = [1] * 1481"
   ],
   "metadata": {
    "collapsed": false,
    "pycharm": {
     "name": "#%%\n"
    }
   }
  },
  {
   "cell_type": "code",
   "execution_count": 26,
   "outputs": [],
   "source": [
    "# has_name\n",
    "df['has_name'] = int(len(df['name']) != 0 and len(df['screen_name']) != 0)\n",
    "has_name_list = df['has_name'].to_list()"
   ],
   "metadata": {
    "collapsed": false,
    "pycharm": {
     "name": "#%%\n"
    }
   }
  },
  {
   "cell_type": "code",
   "execution_count": 27,
   "outputs": [],
   "source": [
    "# has_image\n",
    "\n",
    "df['profile_image_url'].isnull()\n",
    "# since we do not have any null values in profile_image_url, we can convert this column into a list of boolean values\n",
    "\n",
    "has_image = [1] * 1481"
   ],
   "metadata": {
    "collapsed": false,
    "pycharm": {
     "name": "#%%\n"
    }
   }
  },
  {
   "cell_type": "code",
   "execution_count": 28,
   "outputs": [],
   "source": [
    "# has_address\n",
    "\n",
    "has_address_list = df['location'].isnull().to_list()\n",
    "\n",
    "length = len(has_address_list)\n",
    "for i in range(length):\n",
    "    has_address_list[i] = 1 - int(has_address_list[i])"
   ],
   "metadata": {
    "collapsed": false,
    "pycharm": {
     "name": "#%%\n"
    }
   }
  },
  {
   "cell_type": "code",
   "execution_count": 29,
   "outputs": [],
   "source": [
    "# has_bio\n",
    "\n",
    "has_bio_list = df['description'].isnull().to_list()\n",
    "\n",
    "length = len(has_bio_list)\n",
    "for i in range(length):\n",
    "    has_bio_list[i] = 1 - int(has_bio_list[i])"
   ],
   "metadata": {
    "collapsed": false,
    "pycharm": {
     "name": "#%%\n"
    }
   }
  },
  {
   "cell_type": "code",
   "execution_count": 30,
   "outputs": [],
   "source": [
    "# profile_has_url\n",
    "\n",
    "profile_has_url = df['url'].isnull().to_list()\n",
    "\n",
    "length = len(profile_has_url)\n",
    "for i in range(length):\n",
    "    profile_has_url[i] = 1 - int(profile_has_url[i])"
   ],
   "metadata": {
    "collapsed": false,
    "pycharm": {
     "name": "#%%\n"
    }
   }
  },
  {
   "cell_type": "code",
   "execution_count": 31,
   "outputs": [],
   "source": [
    "# present_in_list\n",
    "present_in_list = df['listed_count'].to_list()\n",
    "\n",
    "length = len(present_in_list)\n",
    "for i in range(length):\n",
    "    if present_in_list[i] > 0:\n",
    "        present_in_list[i] = 1"
   ],
   "metadata": {
    "collapsed": false,
    "pycharm": {
     "name": "#%%\n"
    }
   }
  },
  {
   "cell_type": "code",
   "execution_count": 32,
   "metadata": {
    "pycharm": {
     "name": "#%%\n"
    }
   },
   "outputs": [],
   "source": [
    "# friends_to_followers_ratio_list\n",
    "\n",
    "friends_to_followers_ratio_list = [0] * 1481\n",
    "\n",
    "length = len(friends_count_list)\n",
    "for i in range(length):\n",
    "    if(followers_count_list[i] == 0):\n",
    "        friends_to_followers_ratio_list[i] = 100000 # basically an upper cap to infinity\n",
    "    else:\n",
    "        friends_to_followers_ratio_list[i] = (friends_count_list[i]) / (followers_count_list[i])"
   ]
  },
  {
   "cell_type": "code",
   "execution_count": 33,
   "metadata": {
    "tags": []
   },
   "outputs": [],
   "source": [
    "# tweet_count\n",
    "\n",
    "import collections\n",
    "import pandas as pd \n",
    "\n",
    "# a = [1,1,1,1,2,2,2,2,3,3,4,5,5]\n",
    "\n",
    "df = pd.read_csv(path + '/tweets.csv')\n",
    "lst = df['user_id'].to_list()\n",
    "tweet_count = collections.Counter(lst)\n",
    "\n",
    "# Counter({1: 4, 2: 4, 3: 2, 5: 2, 4: 1})\n",
    "# print(counter.values())\n",
    "# [4, 4, 2, 1, 2]\n",
    "# print(counter.keys())\n",
    "# [1, 2, 3, 4, 5]"
   ]
  },
  {
   "cell_type": "code",
   "execution_count": 44,
   "metadata": {},
   "outputs": [
    {
     "output_type": "stream",
     "name": "stdout",
     "text": [
      "         user_id\n0        3610511\n1        5656162\n2        5682702\n3        6067292\n4        6015122\n...          ...\n1476  1127280169\n1477  1156344000\n1478  1169114810\n1479  1212975186\n1480  1213937306\n\n[1481 rows x 1 columns]\n"
     ]
    }
   ],
   "source": [
    "# convert all lists to columns of a new dataframe\n",
    "\n",
    "import pandas as pd\n",
    "\n",
    "df2 = pd.DataFrame({'user_id':id_list})\n",
    "print (df2)"
   ]
  },
  {
   "cell_type": "code",
   "execution_count": 45,
   "metadata": {},
   "outputs": [],
   "source": [
    "df2['tweets_count'] = counter.values()"
   ]
  },
  {
   "cell_type": "code",
   "execution_count": 46,
   "metadata": {},
   "outputs": [
    {
     "output_type": "execute_result",
     "data": {
      "text/plain": [
       "   user_id  tweets_count\n",
       "0  3610511          3057\n",
       "1  5656162          3128\n",
       "2  5682702          3158\n",
       "3  6067292          2012\n",
       "4  6015122          3098"
      ],
      "text/html": "<div>\n<style scoped>\n    .dataframe tbody tr th:only-of-type {\n        vertical-align: middle;\n    }\n\n    .dataframe tbody tr th {\n        vertical-align: top;\n    }\n\n    .dataframe thead th {\n        text-align: right;\n    }\n</style>\n<table border=\"1\" class=\"dataframe\">\n  <thead>\n    <tr style=\"text-align: right;\">\n      <th></th>\n      <th>user_id</th>\n      <th>tweets_count</th>\n    </tr>\n  </thead>\n  <tbody>\n    <tr>\n      <th>0</th>\n      <td>3610511</td>\n      <td>3057</td>\n    </tr>\n    <tr>\n      <th>1</th>\n      <td>5656162</td>\n      <td>3128</td>\n    </tr>\n    <tr>\n      <th>2</th>\n      <td>5682702</td>\n      <td>3158</td>\n    </tr>\n    <tr>\n      <th>3</th>\n      <td>6067292</td>\n      <td>2012</td>\n    </tr>\n    <tr>\n      <th>4</th>\n      <td>6015122</td>\n      <td>3098</td>\n    </tr>\n  </tbody>\n</table>\n</div>"
     },
     "metadata": {},
     "execution_count": 46
    }
   ],
   "source": [
    "df2.head()"
   ]
  },
  {
   "cell_type": "code",
   "execution_count": 47,
   "metadata": {},
   "outputs": [],
   "source": [
    "df2['followers_count'] = followers_count_list\n",
    "df2['friends_count'] = friends_count_list\n",
    "df2['has_name'] = has_name_list\n",
    "df2['has_image'] = has_image\n",
    "df2['has_address'] = has_address_list\n",
    "df2['has_bio'] = has_bio_list\n",
    "df2['profile_has_url'] = profile_has_url\n",
    "df2['present_in_list'] = present_in_list\n",
    "df2['friends_to_followers_ratio'] = friends_to_followers_ratio_list\n",
    "df2['label'] = labels"
   ]
  },
  {
   "cell_type": "code",
   "execution_count": 48,
   "metadata": {},
   "outputs": [
    {
     "output_type": "execute_result",
     "data": {
      "text/plain": [
       "   user_id  tweets_count  followers_count  friends_count  has_name  has_image  \\\n",
       "0  3610511          3057             5470           2385         1          1   \n",
       "1  5656162          3128              506            381         1          1   \n",
       "2  5682702          3158              264             87         1          1   \n",
       "3  6067292          2012              640            622         1          1   \n",
       "4  6015122          3098               62             64         1          1   \n",
       "\n",
       "   has_address  has_bio  profile_has_url  present_in_list  \\\n",
       "0            1        1                1                1   \n",
       "1            1        1                1                1   \n",
       "2            1        1                1                1   \n",
       "3            0        1                1                1   \n",
       "4            1        1                1                0   \n",
       "\n",
       "   friends_to_followers_ratio  label  \n",
       "0                    0.436015      1  \n",
       "1                    0.752964      1  \n",
       "2                    0.329545      1  \n",
       "3                    0.971875      1  \n",
       "4                    1.032258      1  "
      ],
      "text/html": "<div>\n<style scoped>\n    .dataframe tbody tr th:only-of-type {\n        vertical-align: middle;\n    }\n\n    .dataframe tbody tr th {\n        vertical-align: top;\n    }\n\n    .dataframe thead th {\n        text-align: right;\n    }\n</style>\n<table border=\"1\" class=\"dataframe\">\n  <thead>\n    <tr style=\"text-align: right;\">\n      <th></th>\n      <th>user_id</th>\n      <th>tweets_count</th>\n      <th>followers_count</th>\n      <th>friends_count</th>\n      <th>has_name</th>\n      <th>has_image</th>\n      <th>has_address</th>\n      <th>has_bio</th>\n      <th>profile_has_url</th>\n      <th>present_in_list</th>\n      <th>friends_to_followers_ratio</th>\n      <th>label</th>\n    </tr>\n  </thead>\n  <tbody>\n    <tr>\n      <th>0</th>\n      <td>3610511</td>\n      <td>3057</td>\n      <td>5470</td>\n      <td>2385</td>\n      <td>1</td>\n      <td>1</td>\n      <td>1</td>\n      <td>1</td>\n      <td>1</td>\n      <td>1</td>\n      <td>0.436015</td>\n      <td>1</td>\n    </tr>\n    <tr>\n      <th>1</th>\n      <td>5656162</td>\n      <td>3128</td>\n      <td>506</td>\n      <td>381</td>\n      <td>1</td>\n      <td>1</td>\n      <td>1</td>\n      <td>1</td>\n      <td>1</td>\n      <td>1</td>\n      <td>0.752964</td>\n      <td>1</td>\n    </tr>\n    <tr>\n      <th>2</th>\n      <td>5682702</td>\n      <td>3158</td>\n      <td>264</td>\n      <td>87</td>\n      <td>1</td>\n      <td>1</td>\n      <td>1</td>\n      <td>1</td>\n      <td>1</td>\n      <td>1</td>\n      <td>0.329545</td>\n      <td>1</td>\n    </tr>\n    <tr>\n      <th>3</th>\n      <td>6067292</td>\n      <td>2012</td>\n      <td>640</td>\n      <td>622</td>\n      <td>1</td>\n      <td>1</td>\n      <td>0</td>\n      <td>1</td>\n      <td>1</td>\n      <td>1</td>\n      <td>0.971875</td>\n      <td>1</td>\n    </tr>\n    <tr>\n      <th>4</th>\n      <td>6015122</td>\n      <td>3098</td>\n      <td>62</td>\n      <td>64</td>\n      <td>1</td>\n      <td>1</td>\n      <td>1</td>\n      <td>1</td>\n      <td>1</td>\n      <td>0</td>\n      <td>1.032258</td>\n      <td>1</td>\n    </tr>\n  </tbody>\n</table>\n</div>"
     },
     "metadata": {},
     "execution_count": 48
    }
   ],
   "source": [
    "df2.head()"
   ]
  },
  {
   "cell_type": "code",
   "execution_count": 49,
   "metadata": {},
   "outputs": [],
   "source": [
    "df2.to_csv('E13-formatted.csv')"
   ]
  }
 ],
 "metadata": {
  "kernelspec": {
   "name": "pycharm-ca084c4",
   "language": "python",
   "display_name": "PyCharm (machine-learning-tutorials-eckovation)"
  },
  "language_info": {
   "codemirror_mode": {
    "name": "ipython",
    "version": 2
   },
   "file_extension": ".py",
   "mimetype": "text/x-python",
   "name": "python",
   "nbconvert_exporter": "python",
   "pygments_lexer": "ipython2",
   "version": "3.6.9-final"
  }
 },
 "nbformat": 4,
 "nbformat_minor": 0
}